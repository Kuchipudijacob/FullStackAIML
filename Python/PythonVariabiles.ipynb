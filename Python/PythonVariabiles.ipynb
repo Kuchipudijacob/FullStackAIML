{
 "cells": [
  {
   "cell_type": "markdown",
   "id": "12ae7d1f-af57-4d8c-bfe2-b4ee9ef416e1",
   "metadata": {},
   "source": [
    "# Variables"
   ]
  },
  {
   "cell_type": "markdown",
   "id": "177313b4-9e83-4f1b-b0a8-1b0e1611f5fd",
   "metadata": {},
   "source": [
    "- Variable are used to store the value "
   ]
  },
  {
   "cell_type": "markdown",
   "id": "603fc15f-0c56-46c9-ad91-234af1dabdf8",
   "metadata": {},
   "source": [
    "- and change the value `"
   ]
  },
  {
   "cell_type": "code",
   "execution_count": 5,
   "id": "78b757a0-8322-4aee-8c39-45997abbc18e",
   "metadata": {},
   "outputs": [
    {
     "data": {
      "text/plain": [
       "100"
      ]
     },
     "execution_count": 5,
     "metadata": {},
     "output_type": "execute_result"
    }
   ],
   "source": [
    "number =100\n",
    "number"
   ]
  },
  {
   "cell_type": "code",
   "execution_count": 7,
   "id": "ce485555-3637-48fa-98fa-300104999f5c",
   "metadata": {},
   "outputs": [
    {
     "data": {
      "text/plain": [
       "200"
      ]
     },
     "execution_count": 7,
     "metadata": {},
     "output_type": "execute_result"
    }
   ],
   "source": [
    "number = 200\n",
    "number "
   ]
  },
  {
   "cell_type": "markdown",
   "id": "91b71d13-4b15-475b-a6ee-d7c0b54cdbff",
   "metadata": {},
   "source": [
    "**Note**\n",
    "python is step by step process\n"
   ]
  },
  {
   "cell_type": "code",
   "execution_count": 10,
   "id": "39bc910b-a092-4179-b276-a6c14577e96e",
   "metadata": {},
   "outputs": [
    {
     "data": {
      "text/plain": [
       "200"
      ]
     },
     "execution_count": 10,
     "metadata": {},
     "output_type": "execute_result"
    }
   ],
   "source": [
    "NUMBER =200\n",
    "NUMBER"
   ]
  },
  {
   "cell_type": "code",
   "execution_count": 12,
   "id": "66170638-d870-4d11-9b52-338994fd184f",
   "metadata": {},
   "outputs": [
    {
     "data": {
      "text/plain": [
       "200"
      ]
     },
     "execution_count": 12,
     "metadata": {},
     "output_type": "execute_result"
    }
   ],
   "source": [
    "NUMber=200\n",
    "NUMber"
   ]
  },
  {
   "cell_type": "code",
   "execution_count": 14,
   "id": "6434eb04-20f2-4e03-8bb1-9f5d100c900f",
   "metadata": {},
   "outputs": [
    {
     "ename": "SyntaxError",
     "evalue": "invalid decimal literal (659526118.py, line 1)",
     "output_type": "error",
     "traceback": [
      "\u001b[0;36m  Cell \u001b[0;32mIn[14], line 1\u001b[0;36m\u001b[0m\n\u001b[0;31m    123number=300\u001b[0m\n\u001b[0m      ^\u001b[0m\n\u001b[0;31mSyntaxError\u001b[0m\u001b[0;31m:\u001b[0m invalid decimal literal\n"
     ]
    }
   ],
   "source": [
    "123number=300\n",
    "123number"
   ]
  },
  {
   "cell_type": "code",
   "execution_count": 16,
   "id": "90f7b541-253f-4e6c-a691-449a3eacf952",
   "metadata": {},
   "outputs": [
    {
     "ename": "SyntaxError",
     "evalue": "cannot assign to expression here. Maybe you meant '==' instead of '='? (1450364314.py, line 1)",
     "output_type": "error",
     "traceback": [
      "\u001b[0;36m  Cell \u001b[0;32mIn[16], line 1\u001b[0;36m\u001b[0m\n\u001b[0;31m    numb%er=600\u001b[0m\n\u001b[0m    ^\u001b[0m\n\u001b[0;31mSyntaxError\u001b[0m\u001b[0;31m:\u001b[0m cannot assign to expression here. Maybe you meant '==' instead of '='?\n"
     ]
    }
   ],
   "source": [
    "numb%er=600\n",
    "numb%er\n"
   ]
  },
  {
   "cell_type": "code",
   "execution_count": 18,
   "id": "45b76237-c0a2-4233-bb8e-77a6eecce82a",
   "metadata": {},
   "outputs": [
    {
     "ename": "SyntaxError",
     "evalue": "invalid syntax (648225274.py, line 1)",
     "output_type": "error",
     "traceback": [
      "\u001b[0;36m  Cell \u001b[0;32mIn[18], line 1\u001b[0;36m\u001b[0m\n\u001b[0;31m    number one =200\u001b[0m\n\u001b[0m           ^\u001b[0m\n\u001b[0;31mSyntaxError\u001b[0m\u001b[0;31m:\u001b[0m invalid syntax\n"
     ]
    }
   ],
   "source": [
    "number one =200\n",
    "number one "
   ]
  },
  {
   "cell_type": "code",
   "execution_count": 20,
   "id": "f5c2a0ce-d803-4f0a-82bd-1afec593ac14",
   "metadata": {},
   "outputs": [
    {
     "data": {
      "text/plain": [
       "100"
      ]
     },
     "execution_count": 20,
     "metadata": {},
     "output_type": "execute_result"
    }
   ],
   "source": [
    "number_1=100\n",
    "number_1"
   ]
  },
  {
   "cell_type": "code",
   "execution_count": 22,
   "id": "1e97e141-b85f-445f-b077-d4308874e798",
   "metadata": {},
   "outputs": [
    {
     "data": {
      "text/plain": [
       "1000"
      ]
     },
     "execution_count": 22,
     "metadata": {},
     "output_type": "execute_result"
    }
   ],
   "source": [
    "_=1000\n",
    "_\n"
   ]
  },
  {
   "cell_type": "code",
   "execution_count": 24,
   "id": "4e812cb6-dc7d-4168-843d-dabf3b604060",
   "metadata": {},
   "outputs": [
    {
     "data": {
      "text/plain": [
       "(100, 200)"
      ]
     },
     "execution_count": 24,
     "metadata": {},
     "output_type": "execute_result"
    }
   ],
   "source": [
    "n1=100,200\n",
    "n1"
   ]
  },
  {
   "cell_type": "code",
   "execution_count": 26,
   "id": "8ca68156-6857-46cb-acf7-455fb23361e1",
   "metadata": {},
   "outputs": [
    {
     "ename": "TypeError",
     "evalue": "cannot unpack non-iterable int object",
     "output_type": "error",
     "traceback": [
      "\u001b[0;31m---------------------------------------------------------------------------\u001b[0m",
      "\u001b[0;31mTypeError\u001b[0m                                 Traceback (most recent call last)",
      "Cell \u001b[0;32mIn[26], line 1\u001b[0m\n\u001b[0;32m----> 1\u001b[0m n2,n3\u001b[38;5;241m=\u001b[39m\u001b[38;5;241m200\u001b[39m\n\u001b[1;32m      2\u001b[0m (n2,n3)\n",
      "\u001b[0;31mTypeError\u001b[0m: cannot unpack non-iterable int object"
     ]
    }
   ],
   "source": [
    "n2,n3=200\n",
    "(n2,n3)"
   ]
  },
  {
   "cell_type": "code",
   "execution_count": 28,
   "id": "1854c8b8-3bc5-488f-9296-329b4a7558fb",
   "metadata": {},
   "outputs": [
    {
     "data": {
      "text/plain": [
       "(100, 200)"
      ]
     },
     "execution_count": 28,
     "metadata": {},
     "output_type": "execute_result"
    }
   ],
   "source": [
    "n4,n5=100,200\n",
    "(n4,n5)"
   ]
  },
  {
   "cell_type": "code",
   "execution_count": 30,
   "id": "0b42e76a-4e31-4318-aca1-35897da33c6c",
   "metadata": {},
   "outputs": [
    {
     "name": "stdout",
     "output_type": "stream",
     "text": [
      "100\n",
      "200\n"
     ]
    }
   ],
   "source": [
    "print(n4)\n",
    "print(n5)"
   ]
  },
  {
   "cell_type": "code",
   "execution_count": 32,
   "id": "bb63fe5f-ce19-4a47-b5ac-00972a213c4c",
   "metadata": {},
   "outputs": [
    {
     "data": {
      "text/plain": [
       "200"
      ]
     },
     "execution_count": 32,
     "metadata": {},
     "output_type": "execute_result"
    }
   ],
   "source": [
    "n4\n",
    "n5"
   ]
  },
  {
   "cell_type": "code",
   "execution_count": 34,
   "id": "7ceeddfe-e3eb-4760-b879-008aa62e3928",
   "metadata": {},
   "outputs": [],
   "source": [
    "number=200 #works\n",
    "NUMBER=300 #works\n",
    "NUMber=400 #works\n",
    "number123=500 #works\n",
    "123number=600 #fails\n",
    "num%er=700 #fails\n",
    "\n"
   ]
  },
  {
   "cell_type": "markdown",
   "id": "d5d95a75-9d4d-41ff-9678-7720ee762d98",
   "metadata": {},
   "source": [
    "- Python variable are case sensitives \n",
    "\n",
    "- Variables can be decalres as capital letters \n",
    "\n",
    "- Variable can be declares as small letters\n",
    "\n",
    "- Varibeles cannot start with Numbers(Prefix)\n",
    "\n",
    "- Variable can be suffix of variables\n",
    "\n",
    "- Variable canot have special charaters except _\n",
    "\n",
    "- Variable doesnot have spaces between the names\n",
    "\n",
    "- Keywords or reserved word can not use as variable\n",
    "\n",
    "- two values can be assign to a single variable \n",
    "\n",
    "- one value can not assigned to two variale \n"
   ]
  },
  {
   "cell_type": "code",
   "execution_count": 38,
   "id": "9891e2b9-65fb-488b-bbdd-1de2101a9a64",
   "metadata": {},
   "outputs": [
    {
     "ename": "NameError",
     "evalue": "name 'true' is not defined",
     "output_type": "error",
     "traceback": [
      "\u001b[0;31m---------------------------------------------------------------------------\u001b[0m",
      "\u001b[0;31mNameError\u001b[0m                                 Traceback (most recent call last)",
      "Cell \u001b[0;32mIn[38], line 1\u001b[0m\n\u001b[0;32m----> 1\u001b[0m true\n",
      "\u001b[0;31mNameError\u001b[0m: name 'true' is not defined"
     ]
    }
   ],
   "source": [
    "true "
   ]
  },
  {
   "cell_type": "code",
   "execution_count": 40,
   "id": "89150b9b-5c7b-46fb-a7fc-8a8e443520f6",
   "metadata": {},
   "outputs": [
    {
     "data": {
      "text/plain": [
       "True"
      ]
     },
     "execution_count": 40,
     "metadata": {},
     "output_type": "execute_result"
    }
   ],
   "source": [
    "True\n"
   ]
  },
  {
   "cell_type": "code",
   "execution_count": null,
   "id": "9523d0f3-3cf0-4ec5-a207-4fdb8fd39690",
   "metadata": {},
   "outputs": [],
   "source": []
  }
 ],
 "metadata": {
  "kernelspec": {
   "display_name": "Python 3 (ipykernel)",
   "language": "python",
   "name": "python3"
  },
  "language_info": {
   "codemirror_mode": {
    "name": "ipython",
    "version": 3
   },
   "file_extension": ".py",
   "mimetype": "text/x-python",
   "name": "python",
   "nbconvert_exporter": "python",
   "pygments_lexer": "ipython3",
   "version": "3.11.7"
  }
 },
 "nbformat": 4,
 "nbformat_minor": 5
}
