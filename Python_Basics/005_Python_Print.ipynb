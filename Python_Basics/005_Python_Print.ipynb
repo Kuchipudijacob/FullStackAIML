{
 "cells": [
  {
   "cell_type": "code",
   "execution_count": 1,
   "id": "56692cec-0a35-40a0-a0ac-9a5e68c4fc54",
   "metadata": {},
   "outputs": [
    {
     "name": "stdout",
     "output_type": "stream",
     "text": [
      "10\n"
     ]
    }
   ],
   "source": [
    "print(10)"
   ]
  },
  {
   "cell_type": "code",
   "execution_count": 3,
   "id": "2df2bee6-f5a4-4252-b759-96bf300a8594",
   "metadata": {},
   "outputs": [
    {
     "name": "stdout",
     "output_type": "stream",
     "text": [
      "python\n"
     ]
    }
   ],
   "source": [
    "print('python')"
   ]
  },
  {
   "cell_type": "code",
   "execution_count": 5,
   "id": "bcb3394f-2d8d-4bdf-b2d7-a83c2b6fb002",
   "metadata": {},
   "outputs": [
    {
     "name": "stdout",
     "output_type": "stream",
     "text": [
      "10 20 30\n"
     ]
    }
   ],
   "source": [
    "print(10,20,30)"
   ]
  },
  {
   "cell_type": "code",
   "execution_count": 7,
   "id": "2a69ac63-c8b7-4069-bcef-cbb5215191d7",
   "metadata": {},
   "outputs": [
    {
     "name": "stdout",
     "output_type": "stream",
     "text": [
      "10 10.5 Naresh True\n"
     ]
    }
   ],
   "source": [
    "print(10,10.5,'Naresh',True)"
   ]
  },
  {
   "cell_type": "code",
   "execution_count": 9,
   "id": "06a31979-9d90-4caf-8887-78d079a99e4e",
   "metadata": {},
   "outputs": [
    {
     "name": "stdout",
     "output_type": "stream",
     "text": [
      "10 20\n"
     ]
    }
   ],
   "source": [
    "n1 = 10\n",
    "n2 =20\n",
    "print(n1,n2)\n"
   ]
  },
  {
   "cell_type": "code",
   "execution_count": 11,
   "id": "bf01f2ab-d7b2-499f-91c1-79d402f736f3",
   "metadata": {},
   "outputs": [
    {
     "name": "stdout",
     "output_type": "stream",
     "text": [
      "10\n",
      "20\n"
     ]
    },
    {
     "data": {
      "text/plain": [
       "(None, None)"
      ]
     },
     "execution_count": 11,
     "metadata": {},
     "output_type": "execute_result"
    }
   ],
   "source": [
    "print(10),print(20)\n",
    "# None : no value "
   ]
  },
  {
   "cell_type": "code",
   "execution_count": 13,
   "id": "b6bf3bc1-17a8-46b7-9dc8-e430e2b8985c",
   "metadata": {},
   "outputs": [
    {
     "ename": "SyntaxError",
     "evalue": "invalid syntax (2448868521.py, line 1)",
     "output_type": "error",
     "traceback": [
      "\u001b[0;36m  Cell \u001b[0;32mIn[13], line 1\u001b[0;36m\u001b[0m\n\u001b[0;31m    print(10) print(20)\u001b[0m\n\u001b[0m              ^\u001b[0m\n\u001b[0;31mSyntaxError\u001b[0m\u001b[0;31m:\u001b[0m invalid syntax\n"
     ]
    }
   ],
   "source": [
    "print(10) print(20)"
   ]
  },
  {
   "cell_type": "code",
   "execution_count": 15,
   "id": "eb6975b5-97f6-45c1-9dfe-44a359c55c20",
   "metadata": {},
   "outputs": [
    {
     "data": {
      "text/plain": [
       "300"
      ]
     },
     "execution_count": 15,
     "metadata": {},
     "output_type": "execute_result"
    }
   ],
   "source": [
    "a=100 \n",
    "b=200\n",
    "c=a+b\n",
    "c"
   ]
  },
  {
   "cell_type": "code",
   "execution_count": 17,
   "id": "48d46758-c8f8-4694-8e33-cfb24bbaca86",
   "metadata": {},
   "outputs": [
    {
     "name": "stdout",
     "output_type": "stream",
     "text": [
      "the addition of 100 and 200 is 300\n"
     ]
    }
   ],
   "source": [
    "a=100 \n",
    "b=200\n",
    "c=a+b\n",
    "print(\"the addition of\",a,\"and\",b,\"is\",c)\n"
   ]
  },
  {
   "cell_type": "code",
   "execution_count": 19,
   "id": "5a5d2acb-a5fe-4155-a2ef-359c407fd870",
   "metadata": {},
   "outputs": [
    {
     "name": "stdout",
     "output_type": "stream",
     "text": [
      "the addition of 100 and 200 is 300\n"
     ]
    }
   ],
   "source": [
    "print(\"the addition of {} and {} is {}\".format(a,b,c))"
   ]
  },
  {
   "cell_type": "code",
   "execution_count": 21,
   "id": "7e460e94-0521-4a0d-be1d-83f5d62d8890",
   "metadata": {},
   "outputs": [
    {
     "name": "stdout",
     "output_type": "stream",
     "text": [
      "My name is jacob, i am 30 years old. I am from Hyderabad\n"
     ]
    }
   ],
   "source": [
    "# Read your name \n",
    "\n",
    "\n",
    "name= 'jacob'\n",
    "age =30\n",
    "city='Hyderabad'\n",
    "\n",
    "print(\"My name is {}, i am {} years old. I am from {}\".format(name,age,city))"
   ]
  },
  {
   "cell_type": "code",
   "execution_count": 25,
   "id": "bae6a236-9ea4-404a-bde2-db2520a42ec2",
   "metadata": {},
   "outputs": [
    {
     "name": "stdout",
     "output_type": "stream",
     "text": [
      "The name of the employee is jacob,who is the Manager in Medsquire\n"
     ]
    }
   ],
   "source": [
    "empName='jacob'\n",
    "role='Manager'\n",
    "company='Medsquire'\n",
    "print(\"The name of the employee is {},who is the {} in {}\".format(empName,role,company))"
   ]
  },
  {
   "cell_type": "markdown",
   "id": "cd31feb3-4823-431f-bd42-4e1fed005fd7",
   "metadata": {},
   "source": [
    "**F string**"
   ]
  },
  {
   "cell_type": "code",
   "execution_count": 27,
   "id": "d8f85031-6247-4040-a2f1-6526eaf54e24",
   "metadata": {},
   "outputs": [
    {
     "name": "stdout",
     "output_type": "stream",
     "text": [
      "The name of the employee is 100,who is the 200 in 300\n"
     ]
    }
   ],
   "source": [
    "print(f\"The name of the employee is {a},who is the {b} in {c}\")\n",
    "# Fstring method"
   ]
  },
  {
   "cell_type": "code",
   "execution_count": 30,
   "id": "ae46cf58-e212-4d7e-ae5a-e42892ff4c89",
   "metadata": {},
   "outputs": [
    {
     "name": "stdout",
     "output_type": "stream",
     "text": [
      "My name is jacob, i am 30 years old. I am from Hyderabad\n"
     ]
    }
   ],
   "source": [
    "print(f\"My name is {name}, i am {age} years old. I am from {city}\")"
   ]
  },
  {
   "cell_type": "code",
   "execution_count": 32,
   "id": "75a1e2e4-c54e-47cf-8de5-1279af434652",
   "metadata": {},
   "outputs": [
    {
     "name": "stdout",
     "output_type": "stream",
     "text": [
      "the addition of 100 and 200 is 300\n"
     ]
    }
   ],
   "source": [
    "print(f\"the addition of {a} and {b} is {c}\")"
   ]
  },
  {
   "cell_type": "code",
   "execution_count": null,
   "id": "b5c57a45-9f9e-4a60-bdc3-709b66387909",
   "metadata": {},
   "outputs": [],
   "source": []
  }
 ],
 "metadata": {
  "kernelspec": {
   "display_name": "Python 3 (ipykernel)",
   "language": "python",
   "name": "python3"
  },
  "language_info": {
   "codemirror_mode": {
    "name": "ipython",
    "version": 3
   },
   "file_extension": ".py",
   "mimetype": "text/x-python",
   "name": "python",
   "nbconvert_exporter": "python",
   "pygments_lexer": "ipython3",
   "version": "3.11.7"
  }
 },
 "nbformat": 4,
 "nbformat_minor": 5
}
