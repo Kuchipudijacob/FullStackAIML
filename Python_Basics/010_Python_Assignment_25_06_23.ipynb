{
 "cells": [
  {
   "cell_type": "markdown",
   "id": "d0d54f50-c52c-48e2-b521-87afecada566",
   "metadata": {},
   "source": [
    "**1.Ask the user to enter a number. Print out the square of the number**"
   ]
  },
  {
   "cell_type": "code",
   "execution_count": 45,
   "id": "7c28e026-d93e-4ab1-acfd-8e6d1bc883e7",
   "metadata": {},
   "outputs": [],
   "source": [
    "import random\n",
    "import time"
   ]
  },
  {
   "cell_type": "code",
   "execution_count": 11,
   "id": "8752d46f-faf8-4bdd-99d7-658cbe34f09f",
   "metadata": {},
   "outputs": [
    {
     "name": "stdout",
     "output_type": "stream",
     "text": [
      "The Square of 79 is 6241 .\n"
     ]
    }
   ],
   "source": [
    "number=random.randint(1,100)\n",
    "print(f\"The Square of {number} is {number*number} .\")"
   ]
  },
  {
   "cell_type": "markdown",
   "id": "1e23038e-61f8-4209-97aa-8c5751a16dde",
   "metadata": {},
   "source": [
    "**2.Ask the user to enter a number x. print out x, 2x, 3x, 4x, and 5x,\n",
    "each separated by three dashes, like below.\n",
    "Enter a number: 7\n",
    "7---14---21---28---35**"
   ]
  },
  {
   "cell_type": "code",
   "execution_count": 16,
   "id": "b7b2562c-0738-4735-8281-945e21e77ca2",
   "metadata": {},
   "outputs": [
    {
     "name": "stdout",
     "output_type": "stream",
     "text": [
      "41---82---123---164---205\n"
     ]
    }
   ],
   "source": [
    "numberForNfolds=random.randint(1,100)\n",
    "print(numberForNfolds,2*numberForNfolds,3*numberForNfolds,4*numberForNfolds,5*numberForNfolds,sep=\"---\")"
   ]
  },
  {
   "cell_type": "markdown",
   "id": "be08d6b5-c6e9-4e57-b83d-4b512e5060e4",
   "metadata": {},
   "source": [
    "**3. Write a program that asks the user for a weight in kilograms and\n",
    "converts it to pounds. There are 2.2 pounds in a kilogram.**"
   ]
  },
  {
   "cell_type": "code",
   "execution_count": 18,
   "id": "0302769e-9153-495f-8510-3ff0448a3031",
   "metadata": {},
   "outputs": [
    {
     "name": "stdout",
     "output_type": "stream",
     "text": [
      "The weight 64 kgs = 140.8 pounds.\n"
     ]
    }
   ],
   "source": [
    "weightInKGs=random.randint(1,100)\n",
    "print(f\"The weight {weightInKGs} kgs = {2.2*weightInKGs} pounds.\")"
   ]
  },
  {
   "cell_type": "markdown",
   "id": "9daf2afd-48c5-45ee-93cf-35155b7820a1",
   "metadata": {},
   "source": [
    "**4.Write a program that asks the user to enter three numbers (use three\n",
    "separate input statements).Create variables called total and average\n",
    "that hold the sum and average of the three numbers and print out the\n",
    "values of total and average.**"
   ]
  },
  {
   "cell_type": "code",
   "execution_count": 24,
   "id": "b2cd108e-dc5f-4333-89e4-aea4e8136449",
   "metadata": {},
   "outputs": [
    {
     "name": "stdout",
     "output_type": "stream",
     "text": [
      "The total and average of 55,236,400 are 691 and 230.33 respectivly.\n"
     ]
    }
   ],
   "source": [
    "number1=random.randint(1,100)\n",
    "number2=random.randint(200,300)\n",
    "number3=random.randint(300,400)\n",
    "total = number1+number2+number3\n",
    "avg=total/3\n",
    "print(f\"The total and average of {number1},{number2},{number3} are {total} and {round(avg,2)} respectivly.\")"
   ]
  },
  {
   "cell_type": "markdown",
   "id": "5c6e9579-803d-4083-bff7-1738d3499948",
   "metadata": {},
   "source": [
    "**5.A lot of cell phones have tip calculators. Write one. Ask the user for\n",
    "the price of the meal and the percent tip they want to leave. Then\n",
    "print both the tip amount and the total bill with the tip included.**"
   ]
  },
  {
   "cell_type": "code",
   "execution_count": 28,
   "id": "d0b87001-2ac9-4c39-b0bc-10bc3d9c4363",
   "metadata": {},
   "outputs": [
    {
     "name": "stdout",
     "output_type": "stream",
     "text": [
      "The meal price is ₹ 998,the total tip is ₹ 79.84 and the total cost of meal is ₹ 998 + ₹ 79.84 = ₹ 1077.84\n"
     ]
    }
   ],
   "source": [
    "mealPrice=random.randint(1,1000)\n",
    "percentageOfTip=random.randint(1,20)\n",
    "tipAmount=mealPrice*percentageOfTip/100\n",
    "totalBill=mealPrice+tipAmount\n",
    "print(f\"The meal price is ₹ {mealPrice},the total tip is ₹ {tipAmount} and the total cost of meal is ₹ {mealPrice} + ₹ {tipAmount} = ₹ {round(totalBill,2)}\")\n"
   ]
  },
  {
   "cell_type": "markdown",
   "id": "52efa209-8edd-4fcd-8445-76b81f7c483d",
   "metadata": {},
   "source": [
    "**6.wap ask the user enter the 2 numbers find the subtraction,addition,\n",
    "multiplication and division**"
   ]
  },
  {
   "cell_type": "code",
   "execution_count": 33,
   "id": "62cdb0dd-86f9-45a7-9dfc-1f8e5c08a3d2",
   "metadata": {},
   "outputs": [
    {
     "name": "stdout",
     "output_type": "stream",
     "text": [
      "The addition of 295 and 42 is 337.\n",
      "The substraction of 295 and 42 is 253.\n",
      "The multiplication of 295 and 42 is 12390.\n",
      "The division of 295 and 42 is 7.023809523809524.\n"
     ]
    }
   ],
   "source": [
    "calNumber1=random.randint(200,300)\n",
    "calNumber2=random.randint(1,100)\n",
    "print(f\"The addition of {calNumber1} and {calNumber2} is {calNumber1+calNumber2}.\")\n",
    "print(f\"The substraction of {calNumber1} and {calNumber2} is {calNumber1-calNumber2}.\")\n",
    "print(f\"The multiplication of {calNumber1} and {calNumber2} is {calNumber1*calNumber2}.\")\n",
    "print(f\"The division of {calNumber1} and {calNumber2} is {calNumber1/calNumber2}.\")"
   ]
  },
  {
   "cell_type": "markdown",
   "id": "232cef0a-ff5c-4b82-817f-4fbe11d965d1",
   "metadata": {},
   "source": [
    "**7. wap ask the user enter radius values and pi value find the area\n",
    "of the circle**"
   ]
  },
  {
   "cell_type": "code",
   "execution_count": 35,
   "id": "7e3423a0-d657-4640-9ff4-3e89f1d6a7db",
   "metadata": {},
   "outputs": [
    {
     "name": "stdout",
     "output_type": "stream",
     "text": [
      "The area of the circle with radius 59 cm  is 10930.340000000002 cm².\n"
     ]
    }
   ],
   "source": [
    "radius=random.randint(1,100)\n",
    "piValue=3.14\n",
    "print(f\"The area of the circle with radius {radius} cm  is {piValue*radius*radius} cm².\")"
   ]
  },
  {
   "cell_type": "markdown",
   "id": "5e6304fa-4b9c-427b-93c4-5e9bcd7886b0",
   "metadata": {},
   "source": [
    "**8. wap ask the user bill amount in dollars, ask the user enter how\n",
    "much indian rupees for one dollar print the bill amount in rupees**"
   ]
  },
  {
   "cell_type": "code",
   "execution_count": 37,
   "id": "0bdf8901-ad2d-4674-a9d5-1c87e1f25434",
   "metadata": {},
   "outputs": [
    {
     "name": "stdin",
     "output_type": "stream",
     "text": [
      "1 $ is equal to rupees? 85\n"
     ]
    },
    {
     "name": "stdout",
     "output_type": "stream",
     "text": [
      "The total amount for $51 in rupees is ₹4335.\n"
     ]
    }
   ],
   "source": [
    "billInDollar=random.randint(1,100)\n",
    "rupeesForDollar=eval(input(\"1 $ is equal to rupees?\"))\n",
    "print(f\"The total amount for ${billInDollar} in rupees is ₹{rupeesForDollar*billInDollar}.\")"
   ]
  },
  {
   "cell_type": "markdown",
   "id": "ae78c1c6-51e9-4ea9-a288-86f069a888ca",
   "metadata": {},
   "source": [
    "**9. wap ask the user enter base height calculate area of the triangle**"
   ]
  },
  {
   "cell_type": "code",
   "execution_count": 39,
   "id": "09596acb-000d-4165-9bc1-7fa4f5a8fba9",
   "metadata": {},
   "outputs": [
    {
     "name": "stdout",
     "output_type": "stream",
     "text": [
      "The Area of the triangle with height 12cm and base 76 cm is 456.0 cm²\n"
     ]
    }
   ],
   "source": [
    "heightofTriangle= random.randint(1,100)\n",
    "baseOfTriagle=random.randint(1,100)\n",
    "print(f\"The Area of the triangle with height {heightofTriangle}cm and base {baseOfTriagle} cm is {0.5*baseOfTriagle*heightofTriangle} cm²\")\n"
   ]
  },
  {
   "cell_type": "markdown",
   "id": "ef7dfee3-b20e-4182-9af8-8956cf2c5ffd",
   "metadata": {},
   "source": [
    "**10. wap ask the user enter length and breadth calculate area of the\n",
    "rectangle**"
   ]
  },
  {
   "cell_type": "code",
   "execution_count": 43,
   "id": "17493911-6ef2-469d-9d8b-6163cf250940",
   "metadata": {},
   "outputs": [
    {
     "name": "stdout",
     "output_type": "stream",
     "text": [
      "The area of the Rectangle with length 92 cm and breath 66 is 6072 cm²\n"
     ]
    }
   ],
   "source": [
    "lengthOfRect=random.randint(1,100)\n",
    "breathOfRect=random.randint(1,100)\n",
    "print(f\"The area of the Rectangle with length {lengthOfRect} cm and breath {breathOfRect} is {lengthOfRect*breathOfRect} cm²\")"
   ]
  },
  {
   "cell_type": "markdown",
   "id": "d80d0497-f4c7-4e71-8648-6e92cbf289e8",
   "metadata": {},
   "source": [
    "* 11. Let’s create a story between Father and daughter , \n",
    "You need\n",
    "to create a story by using print and input keywords.\n",
    "You need to develop a python code same like below steps\n",
    "The goal of this code is to understand python is step by step\n",
    "process\n",
    "Step-1: input(“ Father: Hey Baby!”)\n",
    "\n",
    "Step-2: input(“Daughter: Hello Dady”)\n",
    "\n",
    "Step-3: input(“Father: I heard your exams are over, what about result”)\n",
    "\n",
    "Step-4: input(“Daughter: Yes dad! Results are out.”)\n",
    "\n",
    "Step-5: input(“Father: what is the percentage?”)\n",
    "\n",
    "Step-6: input(“Daughter: I will give my subject wise marks , you tell me the\n",
    "percentage”)\n",
    "\n",
    "Step-7: input(“Father : Okay!)\n",
    "\n",
    "Step-8: sub1=eval(input(“First Language:”))\n",
    "\n",
    "Step-9: sub2=eval(input(“Second language:”))\n",
    "\n",
    "Step-10: sub3=eval(input(“Third language:”))\n",
    "\n",
    "Step-11: sub4=eval(input(“Science:”))\n",
    "\n",
    "Step-12: sub5=eval(input(“Maths:”))\n",
    "\n",
    "Step-13: Daughter: Dad Now tell me how much percentage I got\n",
    "\n",
    "Step-14: Father: Tell me the max marks of each subject\n",
    "\n",
    "Step-15: max_marks=eval(input(“Daughter:”)) give=100\n",
    "\n",
    "Step-16: calculate the percentage of marks and print it $"
   ]
  },
  {
   "cell_type": "code",
   "execution_count": 51,
   "id": "b5be4117-c9ad-4a60-a899-23e5a8aba8c9",
   "metadata": {},
   "outputs": [
    {
     "name": "stdout",
     "output_type": "stream",
     "text": [
      "Father: Hey Baby!\n",
      "Daughter: Hello Dady\n",
      "Father: I heard your exams are over, what about result\n",
      "Daughter: Yes dad! Results are out.\n",
      "Father: what is the percentage?\n",
      "Daughter: I will give my subject wise marks , you tell me the percentage\n",
      "Father : Okay!\n",
      "Daughter: Dad Now tell me how much percentage I got?\n",
      "Father: Tell me the max marks of each subject?\n",
      "Father: Your total percentage of mark is 69.8\n"
     ]
    }
   ],
   "source": [
    "print(\"Father: Hey Baby!\")\n",
    "time.sleep(2)\n",
    "print(\"Daughter: Hello Dady\")\n",
    "time.sleep(2)\n",
    "print(\"Father: I heard your exams are over, what about result\")\n",
    "time.sleep(2)\n",
    "print(\"Daughter: Yes dad! Results are out.\")\n",
    "time.sleep(2)\n",
    "print(\"Father: what is the percentage?\")\n",
    "time.sleep(2)\n",
    "print(\"Daughter: I will give my subject wise marks , you tell me the percentage\")\n",
    "time.sleep(2)\n",
    "print(\"Father : Okay!\")\n",
    "time.sleep(2)\n",
    "firstLanguangeMarks=random.randint(1,100)\n",
    "secondLanguangeMarks=random.randint(1,100)\n",
    "thirdLanguangeMarks=random.randint(1,100)\n",
    "scienceMarks=random.randint(1,100)\n",
    "mathMarks=random.randint(1,100)\n",
    "print(\"Daughter: Dad Now tell me how much percentage I got?\")\n",
    "time.sleep(2)\n",
    "print(\"Father: Tell me the max marks of each subject?\")\n",
    "maxMarks=random.randint(100,100)\n",
    "print(f\"Father: Your total percentage of mark is {(firstLanguangeMarks+secondLanguangeMarks+thirdLanguangeMarks+scienceMarks+mathMarks)*100/(5*maxMarks)}\")\n"
   ]
  },
  {
   "cell_type": "code",
   "execution_count": null,
   "id": "b84e74ff-bc47-49f0-9e0c-38abbd47f0fe",
   "metadata": {},
   "outputs": [],
   "source": [
    "\n",
    "\n"
   ]
  }
 ],
 "metadata": {
  "kernelspec": {
   "display_name": "Python 3 (ipykernel)",
   "language": "python",
   "name": "python3"
  },
  "language_info": {
   "codemirror_mode": {
    "name": "ipython",
    "version": 3
   },
   "file_extension": ".py",
   "mimetype": "text/x-python",
   "name": "python",
   "nbconvert_exporter": "python",
   "pygments_lexer": "ipython3",
   "version": "3.11.7"
  }
 },
 "nbformat": 4,
 "nbformat_minor": 5
}
