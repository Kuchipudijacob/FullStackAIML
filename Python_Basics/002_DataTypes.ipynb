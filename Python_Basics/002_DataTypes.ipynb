{
 "cells": [
  {
   "cell_type": "markdown",
   "id": "c4287953-56ab-4519-b035-c7db7e3c93fe",
   "metadata": {},
   "source": [
    "**Data Types**\n",
    "\n",
    "\n",
    "- we have many date types avaible \n",
    "\n",
    "- The  Main data types are \n",
    "    - intger\n",
    "    - float\n",
    "    - Boolean\n",
    "    - String\n",
    "- List\n",
    "- Dictonary \n",
    "-Tuple\n",
    "-Complex\n",
    "    \n",
    "    \n"
   ]
  },
  {
   "cell_type": "code",
   "execution_count": 2,
   "id": "848f6ae3-ab88-40bb-b356-c12a9438dd81",
   "metadata": {},
   "outputs": [
    {
     "data": {
      "text/plain": [
       "int"
      ]
     },
     "execution_count": 2,
     "metadata": {},
     "output_type": "execute_result"
    }
   ],
   "source": [
    "n=100\n",
    "type(n)"
   ]
  },
  {
   "cell_type": "markdown",
   "id": "a2c6282e-3076-40a3-bf9e-ba806da15baf",
   "metadata": {},
   "source": [
    "- Binary \n",
    "- Decimal\n",
    "- octa "
   ]
  },
  {
   "cell_type": "markdown",
   "id": "94e7455d-aaef-4799-95df-106d225c1b28",
   "metadata": {},
   "source": [
    "**Binary**\n",
    "- Bi -two numbers\n",
    "- so it requies 2 numbers\n",
    "- so it will use 0 and 1\n",
    "- representation 0b1010101 0B11111\n",
    "- worng reprentaion 0B102 OB007\n"
   ]
  },
  {
   "cell_type": "code",
   "execution_count": 8,
   "id": "734e8237-e6cd-4669-97db-ae4e8c27c563",
   "metadata": {},
   "outputs": [
    {
     "data": {
      "text/plain": [
       "7"
      ]
     },
     "execution_count": 8,
     "metadata": {},
     "output_type": "execute_result"
    }
   ],
   "source": [
    "0b111"
   ]
  },
  {
   "cell_type": "code",
   "execution_count": 10,
   "id": "ef4ed805-c190-4572-9d34-07c2e4584de8",
   "metadata": {},
   "outputs": [
    {
     "data": {
      "text/plain": [
       "106"
      ]
     },
     "execution_count": 10,
     "metadata": {},
     "output_type": "execute_result"
    }
   ],
   "source": [
    "0b01101010"
   ]
  },
  {
   "cell_type": "code",
   "execution_count": 14,
   "id": "50c3704a-f7ee-4fd5-8256-9533938f04e8",
   "metadata": {},
   "outputs": [
    {
     "data": {
      "text/plain": [
       "17"
      ]
     },
     "execution_count": 14,
     "metadata": {},
     "output_type": "execute_result"
    }
   ],
   "source": [
    "0b10001"
   ]
  },
  {
   "cell_type": "code",
   "execution_count": null,
   "id": "2b0a06be-72dd-4504-bd83-1e4054df3dfc",
   "metadata": {},
   "outputs": [],
   "source": []
  }
 ],
 "metadata": {
  "kernelspec": {
   "display_name": "Python 3 (ipykernel)",
   "language": "python",
   "name": "python3"
  },
  "language_info": {
   "codemirror_mode": {
    "name": "ipython",
    "version": 3
   },
   "file_extension": ".py",
   "mimetype": "text/x-python",
   "name": "python",
   "nbconvert_exporter": "python",
   "pygments_lexer": "ipython3",
   "version": "3.11.7"
  }
 },
 "nbformat": 4,
 "nbformat_minor": 5
}
