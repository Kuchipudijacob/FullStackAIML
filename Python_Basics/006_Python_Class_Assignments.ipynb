{
 "cells": [
  {
   "cell_type": "markdown",
   "id": "e6a656e6-3a13-450d-8b0b-ddb75025a75d",
   "metadata": {},
   "source": [
    "$Input$\n",
    "- input keyword used to take the values from the user"
   ]
  },
  {
   "cell_type": "code",
   "execution_count": 2,
   "id": "e0a9d928-5e7b-49c4-8693-96b8c3013670",
   "metadata": {},
   "outputs": [
    {
     "name": "stdin",
     "output_type": "stream",
     "text": [
      " 100\n"
     ]
    },
    {
     "data": {
      "text/plain": [
       "'100'"
      ]
     },
     "execution_count": 2,
     "metadata": {},
     "output_type": "execute_result"
    }
   ],
   "source": [
    "input()\n"
   ]
  },
  {
   "cell_type": "code",
   "execution_count": 4,
   "id": "7db520b5-1341-4c0b-90c4-57262f2843ef",
   "metadata": {},
   "outputs": [
    {
     "name": "stdin",
     "output_type": "stream",
     "text": [
      " Python\n"
     ]
    },
    {
     "data": {
      "text/plain": [
       "'Python'"
      ]
     },
     "execution_count": 4,
     "metadata": {},
     "output_type": "execute_result"
    }
   ],
   "source": [
    "input()"
   ]
  },
  {
   "cell_type": "code",
   "execution_count": 6,
   "id": "4cc25c48-1f84-48f5-a48c-28d2696a760c",
   "metadata": {},
   "outputs": [
    {
     "name": "stdin",
     "output_type": "stream",
     "text": [
      "Enter the number: 100\n"
     ]
    },
    {
     "data": {
      "text/plain": [
       "'100'"
      ]
     },
     "execution_count": 6,
     "metadata": {},
     "output_type": "execute_result"
    }
   ],
   "source": [
    "input(\"Enter the number:\")"
   ]
  },
  {
   "cell_type": "code",
   "execution_count": 10,
   "id": "7e720651-f56a-4314-89e7-f21ab50641a9",
   "metadata": {},
   "outputs": [
    {
     "name": "stdin",
     "output_type": "stream",
     "text": [
      " 100\n",
      " 200\n",
      " 300\n"
     ]
    },
    {
     "data": {
      "text/plain": [
       "'300'"
      ]
     },
     "execution_count": 10,
     "metadata": {},
     "output_type": "execute_result"
    }
   ],
   "source": [
    "input()\n",
    "input()\n",
    "input()\n"
   ]
  },
  {
   "cell_type": "code",
   "execution_count": 12,
   "id": "4c450ece-bfd1-4901-ae4e-4b0babbcef32",
   "metadata": {},
   "outputs": [
    {
     "name": "stdin",
     "output_type": "stream",
     "text": [
      " 100\n",
      " 200\n",
      " 300\n",
      " 400\n",
      " 500\n",
      " 600\n"
     ]
    },
    {
     "data": {
      "text/plain": [
       "'600'"
      ]
     },
     "execution_count": 12,
     "metadata": {},
     "output_type": "execute_result"
    }
   ],
   "source": [
    "input()\n",
    "input()\n",
    "input()\n",
    "input()\n",
    "input()\n",
    "input()"
   ]
  },
  {
   "cell_type": "code",
   "execution_count": 14,
   "id": "c7075725-84ff-494e-8c9a-37555403c0f4",
   "metadata": {},
   "outputs": [
    {
     "name": "stdin",
     "output_type": "stream",
     "text": [
      "Enter the number1: 100\n",
      "Enter the number2: 200\n",
      "Enter the number3: 300\n"
     ]
    },
    {
     "data": {
      "text/plain": [
       "'300'"
      ]
     },
     "execution_count": 14,
     "metadata": {},
     "output_type": "execute_result"
    }
   ],
   "source": [
    "input(\"Enter the number1:\")\n",
    "input(\"Enter the number2:\")\n",
    "input(\"Enter the number3:\")"
   ]
  },
  {
   "cell_type": "markdown",
   "id": "c5b7b8fc-40ea-4aa0-bf5f-9419c91a9219",
   "metadata": {},
   "source": [
    "**Note**\n",
    "- input always return string data \n",
    "in order to perform mat calucation we need to convert into numerical format ie int or flot"
   ]
  },
  {
   "cell_type": "code",
   "execution_count": 23,
   "id": "851b166b-70ca-4215-b92c-8cfd9646e598",
   "metadata": {},
   "outputs": [
    {
     "name": "stdin",
     "output_type": "stream",
     "text": [
      "enter the number1 100\n"
     ]
    },
    {
     "data": {
      "text/plain": [
       "'100'"
      ]
     },
     "execution_count": 23,
     "metadata": {},
     "output_type": "execute_result"
    }
   ],
   "source": [
    "a=input(\"enter the number1\")\n",
    "a\n"
   ]
  },
  {
   "cell_type": "code",
   "execution_count": 21,
   "id": "f2882340-56cf-4eab-a498-28ae935d7a5b",
   "metadata": {},
   "outputs": [
    {
     "name": "stdin",
     "output_type": "stream",
     "text": [
      "enter the number1 100\n",
      "enter the number2 200\n"
     ]
    },
    {
     "name": "stdout",
     "output_type": "stream",
     "text": [
      "addtion of 100,200 is 300\n"
     ]
    }
   ],
   "source": [
    "eval"
   ]
  },
  {
   "cell_type": "code",
   "execution_count": 27,
   "id": "ad563628-cf58-4586-bba8-625d7b76b6df",
   "metadata": {},
   "outputs": [
    {
     "name": "stdin",
     "output_type": "stream",
     "text": [
      "enter the number1 100\n",
      "enter the number2 200\n"
     ]
    },
    {
     "name": "stdout",
     "output_type": "stream",
     "text": [
      "addtion of 100,200 is 300\n"
     ]
    }
   ],
   "source": [
    "fNum=int(input(\"enter the number1\")) # num1='100'\n",
    "sNum=int(input(\"enter the number2\")) # num2='200'\n",
    "add=fNum+sNum\n",
    "print(f\"addtion of {num1},{num2} is {add}\")"
   ]
  },
  {
   "cell_type": "code",
   "execution_count": 29,
   "id": "0028597b-e085-4dc8-b1aa-e44fcaf627e8",
   "metadata": {},
   "outputs": [
    {
     "name": "stdin",
     "output_type": "stream",
     "text": [
      " 100\n"
     ]
    },
    {
     "data": {
      "text/plain": [
       "100"
      ]
     },
     "execution_count": 29,
     "metadata": {},
     "output_type": "execute_result"
    }
   ],
   "source": [
    "eval(input())"
   ]
  },
  {
   "cell_type": "code",
   "execution_count": 31,
   "id": "fdbb3aaa-a466-4f05-a243-8f90d8cb8bc7",
   "metadata": {},
   "outputs": [
    {
     "name": "stdin",
     "output_type": "stream",
     "text": [
      " 100.5\n"
     ]
    },
    {
     "data": {
      "text/plain": [
       "100.5"
      ]
     },
     "execution_count": 31,
     "metadata": {},
     "output_type": "execute_result"
    }
   ],
   "source": [
    "eval(input())"
   ]
  },
  {
   "cell_type": "markdown",
   "id": "392a6a84-e4f7-4b19-a264-89df5c6ec8b9",
   "metadata": {},
   "source": [
    "$eval$\n",
    "\n",
    "- eval means evaluate \n",
    "- eval will convert in to corresponding num datatype\n"
   ]
  },
  {
   "cell_type": "code",
   "execution_count": 36,
   "id": "a66f241b-248a-4cd7-8e09-d8cff9e6f056",
   "metadata": {},
   "outputs": [
    {
     "name": "stdin",
     "output_type": "stream",
     "text": [
      "enter the number1 100\n",
      "enter the number2 200\n"
     ]
    },
    {
     "name": "stdout",
     "output_type": "stream",
     "text": [
      "addtion of 100,200 is 300\n"
     ]
    }
   ],
   "source": [
    "fNum=eval(input(\"enter the number1\")) # num1='100'\n",
    "sNum=eval(input(\"enter the number2\")) # num2='200'\n",
    "add=fNum+sNum\n",
    "print(f\"addtion of {num1},{num2} is {add}\")"
   ]
  },
  {
   "cell_type": "code",
   "execution_count": 38,
   "id": "2e1c79cd-2c50-43d7-bda8-69f7ebe9eada",
   "metadata": {},
   "outputs": [
    {
     "name": "stdin",
     "output_type": "stream",
     "text": [
      "enter the number1 100.2\n",
      "enter the number2 100\n"
     ]
    },
    {
     "name": "stdout",
     "output_type": "stream",
     "text": [
      "addtion of 100,200 is 200.2\n"
     ]
    }
   ],
   "source": [
    "fNum=eval(input(\"enter the number1\")) # num1='100'\n",
    "sNum=eval(input(\"enter the number2\")) # num2='200'\n",
    "add=fNum+sNum\n",
    "print(f\"addtion of {num1},{num2} is {add}\")"
   ]
  },
  {
   "cell_type": "code",
   "execution_count": 40,
   "id": "1a17399d-6188-48b3-b29d-19548de5a0e2",
   "metadata": {},
   "outputs": [],
   "source": [
    "# Write a Program ask the user enter the 3 number , calucate the avarage\n",
    "# WAP ask user to enter the 2 numbers , perform add, mul ,sub,divition\n",
    "# WAP ask user to enter radius vaule and cal the area\n",
    "# WAP ask user to enter bill amount \n",
    "    # ask the user how much tip you want to pay in the %\n",
    "    # calucate the total bill\n",
    "# WAP ask user to enter bill amount in dolloars\n",
    "    # ask the user the rate of 1 $\n",
    "    # calucate the total bill\n",
    "# circle area\n",
    "# rectagle area\n",
    "\n",
    "\n",
    "\n"
   ]
  },
  {
   "cell_type": "code",
   "execution_count": 42,
   "id": "708653ad-a64f-4a3f-965a-6a15fc36100b",
   "metadata": {},
   "outputs": [
    {
     "name": "stdin",
     "output_type": "stream",
     "text": [
      " 100\n",
      " 200\n",
      " 300\n"
     ]
    },
    {
     "name": "stdout",
     "output_type": "stream",
     "text": [
      "the avg of 100 , 200 ,300 is 200.0\n"
     ]
    }
   ],
   "source": [
    "num1=eval(input())\n",
    "num2=eval(input())\n",
    "num3=eval(input())\n",
    "avg=(num1+num2+num3)/3\n",
    "print(\"the avg of {} , {} ,{} is {}\".format(num1,num2,num3,avg))\n"
   ]
  },
  {
   "cell_type": "code",
   "execution_count": 58,
   "id": "c8dfe62a-4215-4697-b60a-feb7786f45db",
   "metadata": {},
   "outputs": [
    {
     "name": "stdin",
     "output_type": "stream",
     "text": [
      "enter the number1 100\n",
      "enter the number2 10\n"
     ]
    },
    {
     "name": "stdout",
     "output_type": "stream",
     "text": [
      "addtion of 100,10 is 110\n",
      "sub of 100,10 is 90\n",
      "Multiplication of 100,10 is 1000\n",
      "Div of 100,10 is 10.0\n"
     ]
    }
   ],
   "source": [
    "fNum=eval(input(\"enter the number1\")) # num1='100'\n",
    "sNum=eval(input(\"enter the number2\")) # num2='200'\n",
    "add=fNum+sNum\n",
    "print(f\"addtion of {fNum},{sNum} is {add}\")\n",
    "print(f\"sub of {fNum},{sNum} is {fNum-sNum}\")\n",
    "print(f\"Multiplication of {fNum},{sNum} is {fNum*sNum}\")\n",
    "print(f\"Div of {fNum},{sNum} is {fNum/sNum}\")"
   ]
  },
  {
   "cell_type": "code",
   "execution_count": 62,
   "id": "ff093a3c-abc3-48ef-b2c6-adfbbfc16fa1",
   "metadata": {},
   "outputs": [
    {
     "name": "stdin",
     "output_type": "stream",
     "text": [
      " 100\n"
     ]
    },
    {
     "name": "stdout",
     "output_type": "stream",
     "text": [
      "the area of the circle with radius 100 is 31400.0\n",
      "the area of the circle with radius 100 is 31400.0\n"
     ]
    }
   ],
   "source": [
    "radius=eval(\"\"input()) \n",
    "pi=3.14\n",
    "area= pi*radius*radius\n",
    "print(\"the area of the circle with radius {} is {}\".format(radius,area))\n",
    "print(f\"the area of the circle with radius {radius} is {area}\")"
   ]
  },
  {
   "cell_type": "code",
   "execution_count": 66,
   "id": "7091aa10-173d-4eb7-a857-5527b308c2a0",
   "metadata": {},
   "outputs": [
    {
     "name": "stdin",
     "output_type": "stream",
     "text": [
      "enter the bill amount  100\n",
      "enter the %  tip  10\n"
     ]
    },
    {
     "name": "stdout",
     "output_type": "stream",
     "text": [
      "The total amount : 110.0 for bill amount:100 with tip:10.0\n"
     ]
    }
   ],
   "source": [
    "billAmount=eval(input(\"enter the bill amount \")) \n",
    "tipPerct=eval( input(\"enter the %  tip \")) \n",
    "tipAmount=(billAmount)*tipPerct/100\n",
    "totalBill=billAmount+tipAmount\n",
    "print(f\"The total amount : {totalBill} for bill amount:{billAmount} with tip:{tipAmount}\")"
   ]
  },
  {
   "cell_type": "code",
   "execution_count": 68,
   "id": "f78d49d8-db78-4e44-be60-06266539aa29",
   "metadata": {},
   "outputs": [
    {
     "name": "stdin",
     "output_type": "stream",
     "text": [
      "enter the base   10\n",
      "enter the height  20\n"
     ]
    },
    {
     "name": "stdout",
     "output_type": "stream",
     "text": [
      "the area of the triangle is 100.0 with base:10 and height:20\n"
     ]
    }
   ],
   "source": [
    "base=eval(input(\"enter the base  \")) \n",
    "height=eval(input(\"enter the height \")) \n",
    "area=.5*base*height\n",
    "print(f\"the area of the triangle is {area} with base:{base } and height:{height}\")"
   ]
  },
  {
   "cell_type": "code",
   "execution_count": 70,
   "id": "9f1b71c7-b301-48f1-96a3-125710d6e8fe",
   "metadata": {},
   "outputs": [
    {
     "name": "stdin",
     "output_type": "stream",
     "text": [
      "enter the height 100\n",
      "enter the breath 200\n"
     ]
    },
    {
     "name": "stdout",
     "output_type": "stream",
     "text": [
      "the area of the rectangle for height 100 and breath 200 is 20000\n"
     ]
    }
   ],
   "source": [
    "height=eval(input(\"enter the height\"))\n",
    "breath =eval(input(\"enter the breath\"))\n",
    "area = height*breath\n",
    "print(f\"the area of the rectangle for height {height} and breath {breath} is {area}\")"
   ]
  },
  {
   "cell_type": "code",
   "execution_count": 72,
   "id": "54966faa-e84a-4901-bdcb-0643a7151c70",
   "metadata": {},
   "outputs": [
    {
     "name": "stdin",
     "output_type": "stream",
     "text": [
      "enter amonut is $ 10\n"
     ]
    },
    {
     "name": "stdout",
     "output_type": "stream",
     "text": [
      "The amount in rupees for $10 is ₹ 800 \n"
     ]
    }
   ],
   "source": [
    "billAmountDollar=eval(input(\"enter amonut is $\"))\n",
    "billAmountinRupees=billAmountDollar*80\n",
    "print(f\"The amount in rupees for ${billAmountDollar} is ₹ {billAmountinRupees} \")"
   ]
  },
  {
   "cell_type": "code",
   "execution_count": null,
   "id": "d294d5d7-6171-4932-b1d2-1bb6ffaf04a1",
   "metadata": {},
   "outputs": [],
   "source": []
  }
 ],
 "metadata": {
  "kernelspec": {
   "display_name": "Python 3 (ipykernel)",
   "language": "python",
   "name": "python3"
  },
  "language_info": {
   "codemirror_mode": {
    "name": "ipython",
    "version": 3
   },
   "file_extension": ".py",
   "mimetype": "text/x-python",
   "name": "python",
   "nbconvert_exporter": "python",
   "pygments_lexer": "ipython3",
   "version": "3.11.7"
  }
 },
 "nbformat": 4,
 "nbformat_minor": 5
}
