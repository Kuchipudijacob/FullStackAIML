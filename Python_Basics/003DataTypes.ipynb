{
 "cells": [
  {
   "cell_type": "code",
   "execution_count": 1,
   "id": "7859c708-5c83-4e98-ab21-08b608bc2e2e",
   "metadata": {},
   "outputs": [
    {
     "data": {
      "text/plain": [
       "'/Users/jacobpaul/Documents/NareshIT/Python_Basics'"
      ]
     },
     "execution_count": 1,
     "metadata": {},
     "output_type": "execute_result"
    }
   ],
   "source": [
    "import os \n",
    "os.getcwd()"
   ]
  },
  {
   "cell_type": "markdown",
   "id": "03887e1b-7cd9-4977-84a2-c25e21d490bb",
   "metadata": {},
   "source": [
    "**octal**\n",
    "\n",
    "- octo mean 8\n",
    "- so it requires 8 digits\n",
    "- gendrally we have 0 1 2 3 4 5 6 7\n",
    "-  correct representation 0o123, 0o01212\n",
    "- worng reprensation 0o108,0o987"
   ]
  },
  {
   "cell_type": "markdown",
   "id": "1f29a48c-3dcf-46d2-bd7f-1dd6510c0499",
   "metadata": {},
   "source": [
    "**Hexa**\n",
    "- octo mean 16\n",
    "- so it requires 16 digits\n",
    "- gendrally we have 0 1 2 3 4 5 6 7 8 9 A(10) B(11) C(12) D(13) E(14) F(15)\n",
    "- so  it will represent only with 0-9 and A-F\n",
    "-  correct representation 0o123, 0o01212\n",
    "- worng reprensation 0o108,0o987\n"
   ]
  },
  {
   "cell_type": "code",
   "execution_count": 9,
   "id": "4929d26c-f2af-4f8a-88c4-bfb82e97d4d9",
   "metadata": {},
   "outputs": [
    {
     "data": {
      "text/plain": [
       "2748"
      ]
     },
     "execution_count": 9,
     "metadata": {},
     "output_type": "execute_result"
    }
   ],
   "source": [
    "0xabc"
   ]
  },
  {
   "cell_type": "code",
   "execution_count": 11,
   "id": "5a33dc28-4b25-4a55-bcdc-29368b8d25dd",
   "metadata": {},
   "outputs": [
    {
     "data": {
      "text/plain": [
       "4671"
      ]
     },
     "execution_count": 11,
     "metadata": {},
     "output_type": "execute_result"
    }
   ],
   "source": [
    "0x123f"
   ]
  },
  {
   "cell_type": "markdown",
   "id": "952609e5-785f-4b4d-a6cc-fcda15586e8b",
   "metadata": {},
   "source": [
    "**float**"
   ]
  },
  {
   "cell_type": "code",
   "execution_count": 14,
   "id": "0d3ca6ea-697c-40e8-9ebb-786a1a956260",
   "metadata": {},
   "outputs": [
    {
     "data": {
      "text/plain": [
       "float"
      ]
     },
     "execution_count": 14,
     "metadata": {},
     "output_type": "execute_result"
    }
   ],
   "source": [
    "n1=100.5\n",
    "type(n1)"
   ]
  },
  {
   "cell_type": "code",
   "execution_count": 22,
   "id": "bcbe0e9d-7e90-420a-ac24-e5660c42f71d",
   "metadata": {},
   "outputs": [
    {
     "data": {
      "text/plain": [
       "(10.0, 100.0, 1000.0, 10000.0)"
      ]
     },
     "execution_count": 22,
     "metadata": {},
     "output_type": "execute_result"
    }
   ],
   "source": [
    "1e1,1e2,1e3,1e4\n",
    "# kep = k*10 pow p"
   ]
  },
  {
   "cell_type": "code",
   "execution_count": 24,
   "id": "fdea1d26-9dba-4a13-be39-3be87f60716e",
   "metadata": {},
   "outputs": [
    {
     "data": {
      "text/plain": [
       "24000.0"
      ]
     },
     "execution_count": 24,
     "metadata": {},
     "output_type": "execute_result"
    }
   ],
   "source": [
    "24e3"
   ]
  },
  {
   "cell_type": "code",
   "execution_count": 26,
   "id": "365177d9-053b-4c13-8e8d-549272836011",
   "metadata": {},
   "outputs": [
    {
     "data": {
      "text/plain": [
       "(10.0, 100.0, 1000.0, 10000.0)"
      ]
     },
     "execution_count": 26,
     "metadata": {},
     "output_type": "execute_result"
    }
   ],
   "source": [
    "1e+1,1e+2,1e+3,1e+4"
   ]
  },
  {
   "cell_type": "code",
   "execution_count": 30,
   "id": "04d7da4d-b07c-4f6d-9bf7-5c3e93f4b66d",
   "metadata": {},
   "outputs": [
    {
     "data": {
      "text/plain": [
       "(0.1, 0.01, 0.001, 0.0001)"
      ]
     },
     "execution_count": 30,
     "metadata": {},
     "output_type": "execute_result"
    }
   ],
   "source": [
    "1e-1,1e-2,1e-3,1e-4"
   ]
  },
  {
   "cell_type": "code",
   "execution_count": 32,
   "id": "837b854f-8d82-4f5c-8fc9-97b023caacef",
   "metadata": {},
   "outputs": [
    {
     "data": {
      "text/plain": [
       "0.0024"
      ]
     },
     "execution_count": 32,
     "metadata": {},
     "output_type": "execute_result"
    }
   ],
   "source": [
    "24e-4"
   ]
  },
  {
   "cell_type": "markdown",
   "id": "73573dd1-8a47-44c8-8e3c-faffb447578b",
   "metadata": {},
   "source": [
    "- positive sign means multiply \n",
    "- negative means divide\n"
   ]
  },
  {
   "cell_type": "markdown",
   "id": "a1ca7050-8dfb-432b-8aab-2abd2342f326",
   "metadata": {},
   "source": [
    "**string**"
   ]
  },
  {
   "cell_type": "markdown",
   "id": "f432e9f3-ded1-4952-9e95-7e57d38a19d0",
   "metadata": {},
   "source": [
    "\n",
    "- string are used to represent the english character gendrally \n",
    "- string will represent on \n",
    "    - single quotes\n",
    "    - double quotes\n",
    "    -triple qotoes "
   ]
  },
  {
   "cell_type": "code",
   "execution_count": 43,
   "id": "9745e343-c2ac-427d-bcbe-4e5daafff1d4",
   "metadata": {},
   "outputs": [
    {
     "data": {
      "text/plain": [
       "str"
      ]
     },
     "execution_count": 43,
     "metadata": {},
     "output_type": "execute_result"
    }
   ],
   "source": [
    "name = 'jacob'\n",
    "type(name)\n"
   ]
  },
  {
   "cell_type": "code",
   "execution_count": 47,
   "id": "ad948713-0d98-4e92-875a-404624cb85c9",
   "metadata": {},
   "outputs": [
    {
     "data": {
      "text/plain": [
       "str"
      ]
     },
     "execution_count": 47,
     "metadata": {},
     "output_type": "execute_result"
    }
   ],
   "source": [
    "lastName=\"Paul\"\n",
    "type(lastName)"
   ]
  },
  {
   "cell_type": "code",
   "execution_count": 49,
   "id": "ed532de7-017c-4a56-800b-3e6534ca8ecd",
   "metadata": {},
   "outputs": [
    {
     "data": {
      "text/plain": [
       "str"
      ]
     },
     "execution_count": 49,
     "metadata": {},
     "output_type": "execute_result"
    }
   ],
   "source": [
    "email_id=\"jacob@gmail.com\"\n",
    "type(email_id)"
   ]
  },
  {
   "cell_type": "markdown",
   "id": "c6f9dbba-cba8-4e1e-95ae-8735d8751e28",
   "metadata": {},
   "source": [
    "**red color means string**\n",
    "\n",
    "**green color means keywords**\n",
    "\n",
    "**black color means variable**"
   ]
  },
  {
   "cell_type": "code",
   "execution_count": 55,
   "id": "f0fabcb4-fb41-4884-9cc9-1dd8e1dd3ade",
   "metadata": {},
   "outputs": [
    {
     "data": {
      "text/plain": [
       "'Python'"
      ]
     },
     "execution_count": 55,
     "metadata": {},
     "output_type": "execute_result"
    }
   ],
   "source": [
    "name = \"Python\"\n",
    "name"
   ]
  },
  {
   "cell_type": "code",
   "execution_count": 57,
   "id": "aa541af1-ddf9-4ae0-83c9-e1f3528051ff",
   "metadata": {},
   "outputs": [],
   "source": [
    "nameEx='Python'"
   ]
  },
  {
   "cell_type": "markdown",
   "id": "73b691b5-c85f-49d2-8074-e21a04006aab",
   "metadata": {},
   "source": [
    "- output is always in single qoutes"
   ]
  },
  {
   "cell_type": "code",
   "execution_count": 62,
   "id": "dd18ec98-695a-41d9-957b-c2521222b202",
   "metadata": {},
   "outputs": [
    {
     "name": "stdout",
     "output_type": "stream",
     "text": [
      "Python\n"
     ]
    }
   ],
   "source": [
    "print(nameEx)"
   ]
  },
  {
   "cell_type": "markdown",
   "id": "4736b575-9f30-440c-aa0b-6c66ce32957a",
   "metadata": {},
   "source": [
    "- whenever you print quotes will not visible"
   ]
  },
  {
   "cell_type": "code",
   "execution_count": 69,
   "id": "3806e315-1c43-40a8-9442-13a8af03d76d",
   "metadata": {},
   "outputs": [
    {
     "data": {
      "text/plain": [
       "\"i like 'Python'\""
      ]
     },
     "execution_count": 69,
     "metadata": {},
     "output_type": "execute_result"
    }
   ],
   "source": [
    "highlight=\"i like 'Python'\"\n",
    "highlight"
   ]
  },
  {
   "cell_type": "markdown",
   "id": "196d04b7-0674-42a1-9cb5-d480b8d5b752",
   "metadata": {},
   "source": [
    "- entire string in  double qoutes the highligted in single qoutes  "
   ]
  },
  {
   "cell_type": "code",
   "execution_count": 71,
   "id": "e7344bcb-c993-4327-ada3-8fd3de7768ec",
   "metadata": {},
   "outputs": [
    {
     "name": "stdout",
     "output_type": "stream",
     "text": [
      "i like 'Python'\n"
     ]
    }
   ],
   "source": [
    "print(highlight)"
   ]
  },
  {
   "cell_type": "code",
   "execution_count": 73,
   "id": "defbdb44-d057-4ba0-82d7-e42485e820bf",
   "metadata": {},
   "outputs": [
    {
     "name": "stdout",
     "output_type": "stream",
     "text": [
      "i like \"Python\"\n"
     ]
    }
   ],
   "source": [
    "highlight='i like \"Python\"'\n",
    "print(highlight)"
   ]
  },
  {
   "cell_type": "markdown",
   "id": "4ce9db52-71c2-441f-b293-175f78b2ea51",
   "metadata": {},
   "source": [
    "***Triple qoutoes***\n",
    "- triple qoutes is not used for coding\n",
    "- triple qoute is used to provide the infromation to the user\n",
    "- In juoyter note book mark down is der for information\n",
    "- in vscode and pycham no markup , so we use triple qoutes for information\n",
    "- the entire process is called DOCString"
   ]
  },
  {
   "cell_type": "code",
   "execution_count": 84,
   "id": "7ed6cc70-b57b-4431-81c7-f914deacf0f1",
   "metadata": {},
   "outputs": [
    {
     "data": {
      "text/plain": [
       "' TO highlight '"
      ]
     },
     "execution_count": 84,
     "metadata": {},
     "output_type": "execute_result"
    }
   ],
   "source": [
    "\"\"\" TO highlight \"\"\""
   ]
  },
  {
   "cell_type": "markdown",
   "id": "dae190b7-324f-45b8-be81-85222c79c35e",
   "metadata": {},
   "source": [
    "***Boolen***"
   ]
  },
  {
   "cell_type": "code",
   "execution_count": 82,
   "id": "ab33ccc0-e473-4e5b-8e16-02c1a0075c98",
   "metadata": {},
   "outputs": [
    {
     "data": {
      "text/plain": [
       "bool"
      ]
     },
     "execution_count": 82,
     "metadata": {},
     "output_type": "execute_result"
    }
   ],
   "source": [
    "value=True \n",
    "type(value)"
   ]
  },
  {
   "cell_type": "code",
   "execution_count": 92,
   "id": "eb73569e-a0a9-45e0-8300-efe629552cb3",
   "metadata": {},
   "outputs": [
    {
     "data": {
      "text/plain": [
       "False"
      ]
     },
     "execution_count": 92,
     "metadata": {},
     "output_type": "execute_result"
    }
   ],
   "source": [
    "true = \"True\"\n",
    "false=False\n",
    "true\n",
    "false\n",
    "# true and false are variable\n",
    "# type true is String\n",
    "# type false is boolen\n"
   ]
  },
  {
   "cell_type": "code",
   "execution_count": null,
   "id": "793c3289-bb41-4cde-99c8-8ecc7bf7d14c",
   "metadata": {},
   "outputs": [],
   "source": []
  }
 ],
 "metadata": {
  "kernelspec": {
   "display_name": "Python 3 (ipykernel)",
   "language": "python",
   "name": "python3"
  },
  "language_info": {
   "codemirror_mode": {
    "name": "ipython",
    "version": 3
   },
   "file_extension": ".py",
   "mimetype": "text/x-python",
   "name": "python",
   "nbconvert_exporter": "python",
   "pygments_lexer": "ipython3",
   "version": "3.11.7"
  }
 },
 "nbformat": 4,
 "nbformat_minor": 5
}
