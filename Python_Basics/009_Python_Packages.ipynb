{
 "cells": [
  {
   "cell_type": "code",
   "execution_count": null,
   "id": "fa89dcf8-676e-45c6-8226-e7b6bb5c4aae",
   "metadata": {},
   "outputs": [],
   "source": [
    "() : functions or methos \n",
    "only functions or methods are callable\n",
    "if somthing says not callable , it is not a function\n",
    "it is not a function means , you need to remove bracket\n",
    "bound method means === add brackets \n",
    "function === add brackets \n",
    "not callable == remove the brakets "
   ]
  },
  {
   "cell_type": "markdown",
   "id": "3a481c81-4843-4c95-8382-d08ebf81823c",
   "metadata": {},
   "source": [
    "- random \n",
    "- math \n",
    "- keyword"
   ]
  },
  {
   "cell_type": "markdown",
   "id": "792ccbc4-4121-4b86-92c0-4ed42d4ddf10",
   "metadata": {},
   "source": [
    "**time**"
   ]
  },
  {
   "cell_type": "code",
   "execution_count": 8,
   "id": "d440e871-ca27-4dce-82ce-68ea4c1611eb",
   "metadata": {},
   "outputs": [],
   "source": [
    "\n",
    "import time "
   ]
  },
  {
   "cell_type": "code",
   "execution_count": 10,
   "id": "d109291a-8e3c-47b3-86ff-75e885d16fd4",
   "metadata": {},
   "outputs": [
    {
     "name": "stdout",
     "output_type": "stream",
     "text": [
      "Father:Hello\n",
      "d: Hi papa\n"
     ]
    },
    {
     "ename": "TypeError",
     "evalue": "'module' object is not callable",
     "output_type": "error",
     "traceback": [
      "\u001b[0;31m---------------------------------------------------------------------------\u001b[0m",
      "\u001b[0;31mTypeError\u001b[0m                                 Traceback (most recent call last)",
      "Cell \u001b[0;32mIn[10], line 4\u001b[0m\n\u001b[1;32m      2\u001b[0m time\u001b[38;5;241m.\u001b[39msleep(\u001b[38;5;241m2\u001b[39m)\n\u001b[1;32m      3\u001b[0m \u001b[38;5;28mprint\u001b[39m(\u001b[38;5;124m\"\u001b[39m\u001b[38;5;124md: Hi papa\u001b[39m\u001b[38;5;124m\"\u001b[39m)\n\u001b[0;32m----> 4\u001b[0m time(\u001b[38;5;241m2\u001b[39m)\n\u001b[1;32m      5\u001b[0m \u001b[38;5;28mprint\u001b[39m(\u001b[38;5;124m\"\u001b[39m\u001b[38;5;124mFather: do you have school today\u001b[39m\u001b[38;5;124m\"\u001b[39m)\n",
      "\u001b[0;31mTypeError\u001b[0m: 'module' object is not callable"
     ]
    }
   ],
   "source": [
    "print(\"Father:Hello\")\n",
    "time.sleep(2)\n",
    "print(\"d: Hi papa\")\n",
    "time(2)\n",
    "print(\"Father: do you have school today\")"
   ]
  },
  {
   "cell_type": "code",
   "execution_count": 12,
   "id": "022a7cbc-8f97-4603-b14b-827fa30ff55d",
   "metadata": {},
   "outputs": [
    {
     "name": "stdout",
     "output_type": "stream",
     "text": [
      "\u001b[31mERROR: Could not find a version that satisfies the requirement time (from versions: none)\u001b[0m\u001b[31m\n",
      "\u001b[0m\u001b[31mERROR: No matching distribution found for time\u001b[0m\u001b[31m\n",
      "\u001b[0mNote: you may need to restart the kernel to use updated packages.\n"
     ]
    }
   ],
   "source": [
    "pip install time"
   ]
  },
  {
   "cell_type": "code",
   "execution_count": 1,
   "id": "11b663aa-02a1-4e1e-860b-626f2d8bb78b",
   "metadata": {},
   "outputs": [],
   "source": [
    "import time "
   ]
  },
  {
   "cell_type": "code",
   "execution_count": 9,
   "id": "d0c26dd2-0d8d-4322-a02a-eb1ae38cdf46",
   "metadata": {},
   "outputs": [
    {
     "name": "stdout",
     "output_type": "stream",
     "text": [
      "Father:Hello\n",
      "d: Hi papa\n",
      "Father: do you have school today\n"
     ]
    }
   ],
   "source": [
    "print(\"Father:Hello\")\n",
    "time.sleep(2)\n",
    "print(\"d: Hi papa\")\n",
    "time.sleep(2)\n",
    "print(\"Father: do you have school today\")"
   ]
  },
  {
   "cell_type": "code",
   "execution_count": null,
   "id": "b3516fc5-8116-4f68-9b98-aa10fc0d28af",
   "metadata": {},
   "outputs": [],
   "source": [
    "- when ever module not found occurs , we need to install \n",
    "- here our package name is cv2 \n",
    "- 99 % the installation will be like this \n",
    "- pip install <package name>\n",
    "\n",
    "- some package installation name will be different a\n"
   ]
  },
  {
   "cell_type": "code",
   "execution_count": 18,
   "id": "e6ea2b1e-ce4e-4f0a-a080-1b9ee04d25e3",
   "metadata": {},
   "outputs": [
    {
     "name": "stdout",
     "output_type": "stream",
     "text": [
      "Collecting TIME-python\n",
      "  Downloading TIME-python-0.0.17.tar.gz (27 kB)\n",
      "  Preparing metadata (setup.py) ... \u001b[?25ldone\n",
      "\u001b[?25hCollecting dipy (from TIME-python)\n",
      "  Downloading dipy-1.9.0-1-cp311-cp311-macosx_10_9_x86_64.whl.metadata (9.0 kB)\n",
      "Collecting nibabel (from TIME-python)\n",
      "  Downloading nibabel-5.2.1-py3-none-any.whl.metadata (8.8 kB)\n",
      "Requirement already satisfied: numpy in /opt/anaconda3/lib/python3.11/site-packages (from TIME-python) (1.26.4)\n",
      "Requirement already satisfied: scipy in /opt/anaconda3/lib/python3.11/site-packages (from TIME-python) (1.11.4)\n",
      "Requirement already satisfied: h5py>=3.1.0 in /opt/anaconda3/lib/python3.11/site-packages (from dipy->TIME-python) (3.9.0)\n",
      "Requirement already satisfied: packaging>=21 in /opt/anaconda3/lib/python3.11/site-packages (from dipy->TIME-python) (23.1)\n",
      "Requirement already satisfied: tqdm>=4.30.0 in /opt/anaconda3/lib/python3.11/site-packages (from dipy->TIME-python) (4.65.0)\n",
      "Collecting trx-python>=0.2.9 (from dipy->TIME-python)\n",
      "  Downloading trx_python-0.3-py3-none-any.whl.metadata (2.7 kB)\n",
      "Collecting setuptools-scm (from trx-python>=0.2.9->dipy->TIME-python)\n",
      "  Downloading setuptools_scm-8.1.0-py3-none-any.whl.metadata (6.6 kB)\n",
      "Collecting deepdiff (from trx-python>=0.2.9->dipy->TIME-python)\n",
      "  Downloading deepdiff-7.0.1-py3-none-any.whl.metadata (6.8 kB)\n",
      "Collecting ordered-set<4.2.0,>=4.1.0 (from deepdiff->trx-python>=0.2.9->dipy->TIME-python)\n",
      "  Downloading ordered_set-4.1.0-py3-none-any.whl.metadata (5.3 kB)\n",
      "Requirement already satisfied: setuptools in /opt/anaconda3/lib/python3.11/site-packages (from setuptools-scm->trx-python>=0.2.9->dipy->TIME-python) (68.2.2)\n",
      "Downloading dipy-1.9.0-1-cp311-cp311-macosx_10_9_x86_64.whl (8.7 MB)\n",
      "\u001b[2K   \u001b[90m━━━━━━━━━━━━━━━━━━━━━━━━━━━━━━━━━━━━━━━━\u001b[0m \u001b[32m8.7/8.7 MB\u001b[0m \u001b[31m1.7 MB/s\u001b[0m eta \u001b[36m0:00:00\u001b[0m00:01\u001b[0m00:01\u001b[0mm\n",
      "\u001b[?25hDownloading nibabel-5.2.1-py3-none-any.whl (3.3 MB)\n",
      "\u001b[2K   \u001b[90m━━━━━━━━━━━━━━━━━━━━━━━━━━━━━━━━━━━━━━━━\u001b[0m \u001b[32m3.3/3.3 MB\u001b[0m \u001b[31m20.1 MB/s\u001b[0m eta \u001b[36m0:00:00\u001b[0m00:01\u001b[0m00:01\u001b[0m\n",
      "\u001b[?25hDownloading trx_python-0.3-py3-none-any.whl (45 kB)\n",
      "\u001b[2K   \u001b[90m━━━━━━━━━━━━━━━━━━━━━━━━━━━━━━━━━━━━━━━━\u001b[0m \u001b[32m45.2/45.2 kB\u001b[0m \u001b[31m3.5 MB/s\u001b[0m eta \u001b[36m0:00:00\u001b[0m\n",
      "\u001b[?25hDownloading deepdiff-7.0.1-py3-none-any.whl (80 kB)\n",
      "\u001b[2K   \u001b[90m━━━━━━━━━━━━━━━━━━━━━━━━━━━━━━━━━━━━━━━━\u001b[0m \u001b[32m80.8/80.8 kB\u001b[0m \u001b[31m5.5 MB/s\u001b[0m eta \u001b[36m0:00:00\u001b[0m\n",
      "\u001b[?25hDownloading setuptools_scm-8.1.0-py3-none-any.whl (43 kB)\n",
      "\u001b[2K   \u001b[90m━━━━━━━━━━━━━━━━━━━━━━━━━━━━━━━━━━━━━━━━\u001b[0m \u001b[32m43.7/43.7 kB\u001b[0m \u001b[31m4.1 MB/s\u001b[0m eta \u001b[36m0:00:00\u001b[0m\n",
      "\u001b[?25hDownloading ordered_set-4.1.0-py3-none-any.whl (7.6 kB)\n",
      "Building wheels for collected packages: TIME-python\n",
      "  Building wheel for TIME-python (setup.py) ... \u001b[?25ldone\n",
      "\u001b[?25h  Created wheel for TIME-python: filename=TIME_python-0.0.17-py3-none-any.whl size=27380 sha256=b1e62e45fb9480f6f61cedf9270b60b40f17ec756d6f4146ca77a619f7fd3bf3\n",
      "  Stored in directory: /Users/jacobpaul/Library/Caches/pip/wheels/64/af/a7/16213d93e705d9b7b27e01d374ac2832c46d7939119ae188cb\n",
      "Successfully built TIME-python\n",
      "Installing collected packages: setuptools-scm, ordered-set, nibabel, deepdiff, trx-python, dipy, TIME-python\n",
      "Successfully installed TIME-python-0.0.17 deepdiff-7.0.1 dipy-1.9.0 nibabel-5.2.1 ordered-set-4.1.0 setuptools-scm-8.1.0 trx-python-0.3\n",
      "Note: you may need to restart the kernel to use updated packages.\n"
     ]
    }
   ],
   "source": [
    "pip install TIME-python"
   ]
  },
  {
   "cell_type": "code",
   "execution_count": 11,
   "id": "3405e4e7-2ddc-42bb-8c19-21f0e93576e3",
   "metadata": {},
   "outputs": [],
   "source": [
    "import streamlit"
   ]
  },
  {
   "cell_type": "code",
   "execution_count": 13,
   "id": "660e2756-1685-4fd4-bd23-c682d29751ee",
   "metadata": {},
   "outputs": [
    {
     "name": "stdout",
     "output_type": "stream",
     "text": [
      "aext-assistant @ file:///private/var/folders/c_/qfmhj66j0tn016nkx_th4hxm0000gp/T/abs_24994515xd/croot/aext-assistant_1717062163042/work\n",
      "aext-assistant-server @ file:///private/var/folders/sy/f16zz6x50xz3113nwtb9bvq00000gp/T/abs_4boob09gv8/croot/aext-assistant-server_1717059973985/work\n",
      "aext-core @ file:///private/var/folders/sy/f16zz6x50xz3113nwtb9bvq00000gp/T/abs_3etmw5tx6d/croot/aext-core_1717056386167/work\n",
      "aext-core-server @ file:///private/var/folders/c_/qfmhj66j0tn016nkx_th4hxm0000gp/T/abs_68sv0mesk_/croot/aext-core-server_1717075032630/work\n",
      "aext-panels @ file:///private/var/folders/c_/qfmhj66j0tn016nkx_th4hxm0000gp/T/abs_892vjkdux1/croot/aext-panels_1717062179502/work\n",
      "aext-panels-server @ file:///private/var/folders/c_/qfmhj66j0tn016nkx_th4hxm0000gp/T/abs_7cdpxd64im/croot/aext-panels-server_1717060126704/work\n",
      "aext-share-notebook @ file:///private/var/folders/sy/f16zz6x50xz3113nwtb9bvq00000gp/T/abs_e5jlgefh0_/croot/aext-share-notebook_1717059291973/work\n",
      "aext-share-notebook-server @ file:///private/var/folders/sy/f16zz6x50xz3113nwtb9bvq00000gp/T/abs_9fjepxgus_/croot/aext-share-notebook-server_1717057945219/work\n",
      "aext-shared @ file:///private/var/folders/sy/f16zz6x50xz3113nwtb9bvq00000gp/T/abs_b8kj3d7nes/croot/aext-shared_1716991096609/work\n",
      "aiobotocore @ file:///private/var/folders/c_/qfmhj66j0tn016nkx_th4hxm0000gp/T/abs_28sh5ufai0/croot/aiobotocore_1701291514455/work\n",
      "aiohttp @ file:///private/var/folders/sy/f16zz6x50xz3113nwtb9bvq00000gp/T/abs_d0kuw1pu3l/croot/aiohttp_1707342310304/work\n",
      "aioitertools @ file:///tmp/build/80754af9/aioitertools_1607109665762/work\n",
      "aiosignal @ file:///tmp/build/80754af9/aiosignal_1637843061372/work\n",
      "alabaster @ file:///home/ktietz/src/ci/alabaster_1611921544520/work\n",
      "altair @ file:///private/var/folders/sy/f16zz6x50xz3113nwtb9bvq00000gp/T/abs_b3vfgmibe1/croot/altair_1687526044832/work\n",
      "anaconda-anon-usage @ file:///private/var/folders/c_/qfmhj66j0tn016nkx_th4hxm0000gp/T/abs_73w1puz2ey/croot/anaconda-anon-usage_1697038932852/work\n",
      "anaconda-catalogs @ file:///private/var/folders/sy/f16zz6x50xz3113nwtb9bvq00000gp/T/abs_737qok84ed/croot/anaconda-catalogs_1685727302903/work\n",
      "anaconda-client @ file:///private/var/folders/c_/qfmhj66j0tn016nkx_th4hxm0000gp/T/abs_4b0movhtkt/croot/anaconda-client_1708643341618/work\n",
      "anaconda-cloud-auth @ file:///private/var/folders/sy/f16zz6x50xz3113nwtb9bvq00000gp/T/abs_2fcwl3hx32/croot/anaconda-cloud-auth_1713991390572/work\n",
      "anaconda-navigator @ file:///private/var/folders/sy/f16zz6x50xz3113nwtb9bvq00000gp/T/abs_287exwrjis/croot/anaconda-navigator_1718670157631/work\n",
      "anaconda-project @ file:///Users/ec2-user/ci_py311/anaconda-project_1678395481364/work\n",
      "anyio @ file:///private/var/folders/c_/qfmhj66j0tn016nkx_th4hxm0000gp/T/abs_646d7rz2z6/croot/anyio_1706220176177/work\n",
      "appdirs==1.4.4\n",
      "applaunchservices @ file:///Users/ec2-user/ci_py311/applaunchservices_1678390181983/work\n",
      "appnope @ file:///Users/ec2-user/ci_py311/appnope_1678317440516/work\n",
      "appscript @ file:///Users/ec2-user/ci_py311/appscript_1678390203562/work\n",
      "archspec @ file:///croot/archspec_1709217642129/work\n",
      "argon2-cffi @ file:///opt/conda/conda-bld/argon2-cffi_1645000214183/work\n",
      "argon2-cffi-bindings @ file:///Users/ec2-user/ci_py311/argon2-cffi-bindings_1678317076583/work\n",
      "arrow @ file:///Users/ec2-user/ci_py311/arrow_1678325845580/work\n",
      "astroid @ file:///Users/ec2-user/ci_py311/astroid_1678323235198/work\n",
      "astropy @ file:///private/var/folders/sy/f16zz6x50xz3113nwtb9bvq00000gp/T/abs_5eioi47n5l/croot/astropy_1697468942084/work\n",
      "asttokens @ file:///opt/conda/conda-bld/asttokens_1646925590279/work\n",
      "async-lru @ file:///private/var/folders/sy/f16zz6x50xz3113nwtb9bvq00000gp/T/abs_365oz8ukt9/croot/async-lru_1699554543402/work\n",
      "atomicwrites==1.4.0\n",
      "attrs @ file:///private/var/folders/sy/f16zz6x50xz3113nwtb9bvq00000gp/T/abs_8d7cifg9jt/croot/attrs_1695717834289/work\n",
      "Automat @ file:///tmp/build/80754af9/automat_1600298431173/work\n",
      "autopep8 @ file:///opt/conda/conda-bld/autopep8_1650463822033/work\n",
      "Babel @ file:///Users/ec2-user/ci_py311/babel_1678318085010/work\n",
      "backports.functools-lru-cache @ file:///tmp/build/80754af9/backports.functools_lru_cache_1618170165463/work\n",
      "backports.tempfile @ file:///home/linux1/recipes/ci/backports.tempfile_1610991236607/work\n",
      "backports.weakref==1.0.post1\n",
      "bcrypt @ file:///Users/ec2-user/ci_py311/bcrypt_1678325873219/work\n",
      "beautifulsoup4 @ file:///private/var/folders/sy/f16zz6x50xz3113nwtb9bvq00000gp/T/abs_bczxn9gqkq/croot/beautifulsoup4-split_1681493044307/work\n",
      "binaryornot @ file:///tmp/build/80754af9/binaryornot_1617751525010/work\n",
      "black @ file:///private/var/folders/sy/f16zz6x50xz3113nwtb9bvq00000gp/T/abs_7e2e_enjyu/croot/black_1701096994188/work\n",
      "bleach @ file:///opt/conda/conda-bld/bleach_1641577558959/work\n",
      "blinker @ file:///private/var/folders/sy/f16zz6x50xz3113nwtb9bvq00000gp/T/abs_006wdibaig/croot/blinker_1696539075381/work\n",
      "bokeh @ file:///private/var/folders/c_/qfmhj66j0tn016nkx_th4hxm0000gp/T/abs_2coai3sgck/croot/bokeh_1706912152474/work\n",
      "boltons @ file:///Users/ec2-user/ci_py311/boltons_1678396074811/work\n",
      "botocore @ file:///private/var/folders/sy/f16zz6x50xz3113nwtb9bvq00000gp/T/abs_1e9zsb6be5/croot/botocore_1701286470407/work\n",
      "Bottleneck @ file:///private/var/folders/c_/qfmhj66j0tn016nkx_th4hxm0000gp/T/abs_cfe9itj_y_/croot/bottleneck_1707864223016/work\n",
      "Brotli @ file:///Users/ec2-user/ci_py311/brotli-split_1678379922007/work\n",
      "cachetools @ file:///tmp/build/80754af9/cachetools_1619597386817/work\n",
      "certifi @ file:///private/var/folders/sy/f16zz6x50xz3113nwtb9bvq00000gp/T/abs_01_n0k1_sn/croot/certifi_1717618062792/work/certifi\n",
      "cffi @ file:///private/var/folders/sy/f16zz6x50xz3113nwtb9bvq00000gp/T/abs_44mvycfmuf/croot/cffi_1700254431144/work\n",
      "chardet @ file:///Users/ec2-user/ci_py311/chardet_1678326102860/work\n",
      "charset-normalizer @ file:///tmp/build/80754af9/charset-normalizer_1630003229654/work\n",
      "click @ file:///private/var/folders/c_/qfmhj66j0tn016nkx_th4hxm0000gp/T/abs_f27dk3zwrb/croot/click_1698129816363/work\n",
      "cloudpickle @ file:///private/var/folders/sy/f16zz6x50xz3113nwtb9bvq00000gp/T/abs_c57ujq_pgm/croot/cloudpickle_1683040025620/work\n",
      "clyent==1.2.2\n",
      "colorama @ file:///Users/ec2-user/ci_py311/colorama_1678320227414/work\n",
      "colorcet @ file:///Users/ec2-user/ci_py311/colorcet_1678380145131/work\n",
      "comm @ file:///Users/ec2-user/ci_py311/comm_1678317779525/work\n",
      "conda @ file:///private/var/folders/c_/qfmhj66j0tn016nkx_th4hxm0000gp/T/abs_688dadqtkd/croot/conda_1715635738714/work\n",
      "conda-build @ file:///private/var/folders/c_/qfmhj66j0tn016nkx_th4hxm0000gp/T/abs_7e55_dztam/croot/conda-build_1708025868445/work\n",
      "conda-content-trust @ file:///private/var/folders/sy/f16zz6x50xz3113nwtb9bvq00000gp/T/abs_3dvkcnnrtu/croot/conda-content-trust_1693490624887/work\n",
      "conda-libmamba-solver @ file:///croot/conda-libmamba-solver_1706733287605/work/src\n",
      "conda-pack @ file:///tmp/build/80754af9/conda-pack_1611163042455/work\n",
      "conda-package-handling @ file:///private/var/folders/sy/f16zz6x50xz3113nwtb9bvq00000gp/T/abs_99vcqjo8cf/croot/conda-package-handling_1690999935230/work\n",
      "conda-repo-cli==1.0.75\n",
      "conda-token @ file:///Users/paulyim/miniconda3/envs/c3i/conda-bld/conda-token_1662660369760/work\n",
      "conda-verify==3.4.2\n",
      "conda_index @ file:///croot/conda-index_1706633791028/work\n",
      "conda_package_streaming @ file:///private/var/folders/sy/f16zz6x50xz3113nwtb9bvq00000gp/T/abs_d5wg6eonuu/croot/conda-package-streaming_1690987980119/work\n",
      "constantly @ file:///private/var/folders/sy/f16zz6x50xz3113nwtb9bvq00000gp/T/abs_37us04na64/croot/constantly_1703165604710/work\n",
      "contourpy @ file:///private/var/folders/sy/f16zz6x50xz3113nwtb9bvq00000gp/T/abs_deuzpvbq4p/croot/contourpy_1700583585680/work\n",
      "cookiecutter @ file:///private/var/folders/sy/f16zz6x50xz3113nwtb9bvq00000gp/T/abs_57du_og3b2/croot/cookiecutter_1700676947813/work\n",
      "cryptography @ file:///private/var/folders/c_/qfmhj66j0tn016nkx_th4hxm0000gp/T/abs_e7alfzmgr5/croot/cryptography_1707523710843/work\n",
      "cssselect @ file:///private/var/folders/c_/qfmhj66j0tn016nkx_th4hxm0000gp/T/abs_b5i_2e8lvm/croot/cssselect_1707339893171/work\n",
      "cycler @ file:///tmp/build/80754af9/cycler_1637851556182/work\n",
      "cytoolz @ file:///private/var/folders/c_/qfmhj66j0tn016nkx_th4hxm0000gp/T/abs_46i_inkrxd/croot/cytoolz_1701729348812/work\n",
      "dask @ file:///private/var/folders/c_/qfmhj66j0tn016nkx_th4hxm0000gp/T/abs_9ecu0_rn_b/croot/dask-core_1701396122745/work\n",
      "datashader @ file:///private/var/folders/sy/f16zz6x50xz3113nwtb9bvq00000gp/T/abs_666jdjr1c8/croot/datashader_1699542894209/work\n",
      "debugpy @ file:///private/var/folders/sy/f16zz6x50xz3113nwtb9bvq00000gp/T/abs_30hp2nowkm/croot/debugpy_1690905056188/work\n",
      "decorator @ file:///opt/conda/conda-bld/decorator_1643638310831/work\n",
      "deepdiff==7.0.1\n",
      "defusedxml @ file:///tmp/build/80754af9/defusedxml_1615228127516/work\n",
      "diff-match-patch @ file:///Users/ktietz/demo/mc3/conda-bld/diff-match-patch_1630511840874/work\n",
      "dill @ file:///private/var/folders/sy/f16zz6x50xz3113nwtb9bvq00000gp/T/abs_95s9ca6wqy/croot/dill_1692271239138/work\n",
      "dipy==1.9.0\n",
      "distributed @ file:///private/var/folders/sy/f16zz6x50xz3113nwtb9bvq00000gp/T/abs_d9spk0ul24/croot/distributed_1701398038700/work\n",
      "distro @ file:///private/var/folders/c_/qfmhj66j0tn016nkx_th4hxm0000gp/T/abs_e85zz_84gd/croot/distro_1701455023959/work\n",
      "docstring-to-markdown @ file:///Users/ec2-user/ci_py311/docstring-to-markdown_1678326320721/work\n",
      "docutils @ file:///Users/ec2-user/ci_py311/docutils_1678316143314/work\n",
      "entrypoints @ file:///Users/ec2-user/ci_py311/entrypoints_1678316169365/work\n",
      "et-xmlfile==1.1.0\n",
      "executing @ file:///opt/conda/conda-bld/executing_1646925071911/work\n",
      "fastjsonschema @ file:///Users/ec2-user/ci_py311_2/python-fastjsonschema_1679338737111/work\n",
      "filelock @ file:///private/var/folders/sy/f16zz6x50xz3113nwtb9bvq00000gp/T/abs_cd61an5em3/croot/filelock_1700591192468/work\n",
      "flake8 @ file:///Users/ec2-user/ci_py311/flake8_1678326404511/work\n",
      "Flask @ file:///private/var/folders/c_/qfmhj66j0tn016nkx_th4hxm0000gp/T/abs_0ciz1g6mz5/croot/flask_1702980028646/work\n",
      "fonttools==4.25.0\n",
      "frozendict @ file:///private/var/folders/sy/f16zz6x50xz3113nwtb9bvq00000gp/T/abs_f2kfyv072k/croot/frozendict_1713194840232/work\n",
      "frozenlist @ file:///private/var/folders/c_/qfmhj66j0tn016nkx_th4hxm0000gp/T/abs_6e53v2xx31/croot/frozenlist_1698702576189/work\n",
      "fsspec @ file:///private/var/folders/c_/qfmhj66j0tn016nkx_th4hxm0000gp/T/abs_0df7iqlnzr/croot/fsspec_1701286489940/work\n",
      "future @ file:///Users/ec2-user/ci_py311_2/future_1679335881731/work\n",
      "gensim @ file:///Users/ec2-user/ci_py311/gensim_1678412014794/work\n",
      "gitdb @ file:///tmp/build/80754af9/gitdb_1617117951232/work\n",
      "GitPython @ file:///private/var/folders/c_/qfmhj66j0tn016nkx_th4hxm0000gp/T/abs_027sj4e4m2/croot/gitpython_1696936986392/work\n",
      "gmpy2 @ file:///Users/ec2-user/ci_py311/gmpy2_1678380831980/work\n",
      "greenlet @ file:///private/var/folders/sy/f16zz6x50xz3113nwtb9bvq00000gp/T/abs_10cuim1il_/croot/greenlet_1702059962773/work\n",
      "h11 @ file:///private/var/folders/c_/qfmhj66j0tn016nkx_th4hxm0000gp/T/abs_14h6x3q_k6/croot/h11_1706652288187/work\n",
      "h5py @ file:///private/var/folders/sy/f16zz6x50xz3113nwtb9bvq00000gp/T/abs_a4au6npi7q/croot/h5py_1691589712522/work\n",
      "HeapDict @ file:///Users/ktietz/demo/mc3/conda-bld/heapdict_1630598515714/work\n",
      "holoviews @ file:///private/var/folders/c_/qfmhj66j0tn016nkx_th4hxm0000gp/T/abs_89ondu04ke/croot/holoviews_1707836458132/work\n",
      "httpcore @ file:///private/var/folders/sy/f16zz6x50xz3113nwtb9bvq00000gp/T/abs_2ek8c13vuv/croot/httpcore_1706728466947/work\n",
      "httpx @ file:///private/var/folders/c_/qfmhj66j0tn016nkx_th4hxm0000gp/T/abs_67v456zufa/croot/httpx_1706887110127/work\n",
      "hvplot @ file:///private/var/folders/sy/f16zz6x50xz3113nwtb9bvq00000gp/T/abs_10nyldfkp0/croot/hvplot_1706712404973/work\n",
      "hyperlink @ file:///tmp/build/80754af9/hyperlink_1610130746837/work\n",
      "idna @ file:///Users/ec2-user/ci_py311/idna_1678315819133/work\n",
      "imagecodecs @ file:///private/var/folders/sy/f16zz6x50xz3113nwtb9bvq00000gp/T/abs_ddpwfftoh7/croot/imagecodecs_1695064957263/work\n",
      "imageio @ file:///private/var/folders/sy/f16zz6x50xz3113nwtb9bvq00000gp/T/abs_372o7sf2ih/croot/imageio_1707247292144/work\n",
      "imagesize @ file:///Users/ec2-user/ci_py311/imagesize_1678377399148/work\n",
      "imbalanced-learn @ file:///private/var/folders/sy/f16zz6x50xz3113nwtb9bvq00000gp/T/abs_28v7dp5c0a/croot/imbalanced-learn_1700648237482/work\n",
      "importlib-metadata @ file:///private/var/folders/sy/f16zz6x50xz3113nwtb9bvq00000gp/T/abs_37pdw0fbft/croot/importlib_metadata-suite_1704813531185/work\n",
      "incremental @ file:///croot/incremental_1708639938299/work\n",
      "inflection==0.5.1\n",
      "iniconfig @ file:///home/linux1/recipes/ci/iniconfig_1610983019677/work\n",
      "intake @ file:///Users/ec2-user/ci_py311_2/intake_1679336302724/work\n",
      "intervaltree @ file:///Users/ktietz/demo/mc3/conda-bld/intervaltree_1630511889664/work\n",
      "ipykernel @ file:///private/var/folders/sy/f16zz6x50xz3113nwtb9bvq00000gp/T/abs_02wd6dgggf/croot/ipykernel_1705933834674/work\n",
      "ipython @ file:///private/var/folders/sy/f16zz6x50xz3113nwtb9bvq00000gp/T/abs_32zk9b7snp/croot/ipython_1704833017294/work\n",
      "ipython-genutils @ file:///tmp/build/80754af9/ipython_genutils_1606773439826/work\n",
      "ipywidgets @ file:///croot/ipywidgets_1701289330913/work\n",
      "isort @ file:///tmp/build/80754af9/isort_1628603791788/work\n",
      "itemadapter @ file:///tmp/build/80754af9/itemadapter_1626442940632/work\n",
      "itemloaders @ file:///private/var/folders/sy/f16zz6x50xz3113nwtb9bvq00000gp/T/abs_e1nzju_zur/croot/itemloaders_1708642351186/work\n",
      "itsdangerous @ file:///tmp/build/80754af9/itsdangerous_1621432558163/work\n",
      "jaraco.classes @ file:///tmp/build/80754af9/jaraco.classes_1620983179379/work\n",
      "jedi @ file:///Users/ec2-user/ci_py311_2/jedi_1679336327335/work\n",
      "jellyfish @ file:///private/var/folders/c_/qfmhj66j0tn016nkx_th4hxm0000gp/T/abs_8dett_avvn/croot/jellyfish_1695193539591/work\n",
      "Jinja2 @ file:///private/var/folders/c_/qfmhj66j0tn016nkx_th4hxm0000gp/T/abs_524l12w9yv/croot/jinja2_1706733629737/work\n",
      "jmespath @ file:///private/var/folders/sy/f16zz6x50xz3113nwtb9bvq00000gp/T/abs_d04w00_imo/croot/jmespath_1700144576885/work\n",
      "joblib @ file:///private/var/folders/sy/f16zz6x50xz3113nwtb9bvq00000gp/T/abs_dfriz0qjwt/croot/joblib_1685113297703/work\n",
      "json5 @ file:///tmp/build/80754af9/json5_1624432770122/work\n",
      "jsonpatch @ file:///tmp/build/80754af9/jsonpatch_1615747632069/work\n",
      "jsonpointer==2.1\n",
      "jsonschema @ file:///private/var/folders/sy/f16zz6x50xz3113nwtb9bvq00000gp/T/abs_2dizrcxtjs/croot/jsonschema_1699041625297/work\n",
      "jsonschema-specifications @ file:///private/var/folders/c_/qfmhj66j0tn016nkx_th4hxm0000gp/T/abs_a8fa_vbpr0/croot/jsonschema-specifications_1699032391984/work\n",
      "jupyter @ file:///private/var/folders/c_/qfmhj66j0tn016nkx_th4hxm0000gp/T/abs_34cfjeq8fl/croot/jupyter_1707947111214/work\n",
      "jupyter-console @ file:///private/var/folders/sy/f16zz6x50xz3113nwtb9bvq00000gp/T/abs_e8qcp1kdie/croot/jupyter_console_1679999714867/work\n",
      "jupyter-events @ file:///private/var/folders/c_/qfmhj66j0tn016nkx_th4hxm0000gp/T/abs_0afa1efv4o/croot/jupyter_events_1699282487467/work\n",
      "jupyter-lsp @ file:///private/var/folders/sy/f16zz6x50xz3113nwtb9bvq00000gp/T/abs_8bgnow1zue/croot/jupyter-lsp-meta_1699978255202/work\n",
      "jupyter_client @ file:///private/var/folders/c_/qfmhj66j0tn016nkx_th4hxm0000gp/T/abs_34idsdcz65/croot/jupyter_client_1699455901351/work\n",
      "jupyter_core @ file:///private/var/folders/c_/qfmhj66j0tn016nkx_th4hxm0000gp/T/abs_52dd_abw8z/croot/jupyter_core_1698937540478/work\n",
      "jupyter_server @ file:///private/var/folders/c_/qfmhj66j0tn016nkx_th4hxm0000gp/T/abs_8bks4a2dxf/croot/jupyter_server_1699466458630/work\n",
      "jupyter_server_terminals @ file:///private/var/folders/sy/f16zz6x50xz3113nwtb9bvq00000gp/T/abs_257krljdmq/croot/jupyter_server_terminals_1686870730796/work\n",
      "jupyterlab @ file:///private/var/folders/sy/f16zz6x50xz3113nwtb9bvq00000gp/T/abs_9ezoivu62k/croot/jupyterlab_1706802593854/work\n",
      "jupyterlab-pygments @ file:///tmp/build/80754af9/jupyterlab_pygments_1601490720602/work\n",
      "jupyterlab-widgets @ file:///private/var/folders/sy/f16zz6x50xz3113nwtb9bvq00000gp/T/abs_2216bjxnmm/croot/jupyterlab_widgets_1700168633331/work\n",
      "jupyterlab_server @ file:///private/var/folders/c_/qfmhj66j0tn016nkx_th4hxm0000gp/T/abs_57gd4vwlz2/croot/jupyterlab_server_1699555433477/work\n",
      "keyring @ file:///private/var/folders/sy/f16zz6x50xz3113nwtb9bvq00000gp/T/abs_2ds0bchnl2/croot/keyring_1678999223818/work\n",
      "kiwisolver @ file:///Users/ec2-user/ci_py311/kiwisolver_1678322457192/work\n",
      "lazy-object-proxy @ file:///Users/ec2-user/ci_py311/lazy-object-proxy_1678322504286/work\n",
      "lazy_loader @ file:///private/var/folders/sy/f16zz6x50xz3113nwtb9bvq00000gp/T/abs_4a85lv11ob/croot/lazy_loader_1695850116141/work\n",
      "lckr_jupyterlab_variableinspector @ file:///private/var/folders/c_/qfmhj66j0tn016nkx_th4hxm0000gp/T/abs_c9xccj0kxa/croot/jupyterlab-variableinspector_1701096550140/work\n",
      "libarchive-c @ file:///tmp/build/80754af9/python-libarchive-c_1617780486945/work\n",
      "libmambapy @ file:///private/var/folders/sy/f16zz6x50xz3113nwtb9bvq00000gp/T/abs_f92phu8xz5/croot/mamba-split_1704219410331/work/libmambapy\n",
      "linkify-it-py @ file:///Users/ec2-user/ci_py311/linkify-it-py_1678413480728/work\n",
      "llvmlite @ file:///private/var/folders/sy/f16zz6x50xz3113nwtb9bvq00000gp/T/abs_18ie6wlojg/croot/llvmlite_1706910715685/work\n",
      "lmdb @ file:///private/var/folders/sy/f16zz6x50xz3113nwtb9bvq00000gp/T/abs_88zbo0vn66/croot/python-lmdb_1682522360781/work\n",
      "locket @ file:///Users/ec2-user/ci_py311/locket_1678322541585/work\n",
      "lxml @ file:///private/var/folders/c_/qfmhj66j0tn016nkx_th4hxm0000gp/T/abs_88h1jismwb/croot/lxml_1695058176726/work\n",
      "lz4 @ file:///private/var/folders/sy/f16zz6x50xz3113nwtb9bvq00000gp/T/abs_7fl2lzb5wh/croot/lz4_1686057901919/work\n",
      "Markdown @ file:///Users/ec2-user/ci_py311/markdown_1678377870854/work\n",
      "markdown-it-py @ file:///private/var/folders/sy/f16zz6x50xz3113nwtb9bvq00000gp/T/abs_43xjt6hz0x/croot/markdown-it-py_1684279911135/work\n",
      "MarkupSafe @ file:///private/var/folders/sy/f16zz6x50xz3113nwtb9bvq00000gp/T/abs_3a_cffw83x/croot/markupsafe_1704205995714/work\n",
      "matplotlib @ file:///private/var/folders/sy/f16zz6x50xz3113nwtb9bvq00000gp/T/abs_52jpupryfi/croot/matplotlib-suite_1698692115510/work\n",
      "matplotlib-inline @ file:///Users/ec2-user/ci_py311/matplotlib-inline_1678317544666/work\n",
      "mccabe @ file:///opt/conda/conda-bld/mccabe_1644221741721/work\n",
      "mdit-py-plugins @ file:///Users/ec2-user/ci_py311/mdit-py-plugins_1678417716573/work\n",
      "mdurl @ file:///Users/ec2-user/ci_py311/mdurl_1678381820326/work\n",
      "menuinst @ file:///private/var/folders/c_/qfmhj66j0tn016nkx_th4hxm0000gp/T/abs_0bl_d_k5ae/croot/menuinst_1706732940486/work\n",
      "mistune @ file:///Users/ec2-user/ci_py311/mistune_1678317250930/work\n",
      "more-itertools @ file:///private/var/folders/sy/f16zz6x50xz3113nwtb9bvq00000gp/T/abs_f1d0z8hojr/croot/more-itertools_1700662151147/work\n",
      "mpmath @ file:///private/var/folders/c_/qfmhj66j0tn016nkx_th4hxm0000gp/T/abs_8fyoqwupl2/croot/mpmath_1690848275746/work\n",
      "msgpack @ file:///Users/ec2-user/ci_py311/msgpack-python_1678318264150/work\n",
      "multidict @ file:///private/var/folders/sy/f16zz6x50xz3113nwtb9bvq00000gp/T/abs_be2ue8cvpf/croot/multidict_1701097066549/work\n",
      "multipledispatch @ file:///Users/ec2-user/ci_py311/multipledispatch_1678392901644/work\n",
      "munkres==1.1.4\n",
      "mypy @ file:///private/var/folders/c_/qfmhj66j0tn016nkx_th4hxm0000gp/T/abs_a1kh3l6yk3/croot/mypy-split_1708366523133/work\n",
      "mypy-extensions @ file:///private/var/folders/c_/qfmhj66j0tn016nkx_th4hxm0000gp/T/abs_feh7ysu6du/croot/mypy_extensions_1695130941162/work\n",
      "navigator-updater @ file:///private/var/folders/sy/f16zz6x50xz3113nwtb9bvq00000gp/T/abs_e9sgoc1006/croot/navigator-updater_1695210192316/work\n",
      "nbclient @ file:///private/var/folders/c_/qfmhj66j0tn016nkx_th4hxm0000gp/T/abs_623buwsd_7/croot/nbclient_1698934220529/work\n",
      "nbconvert @ file:///private/var/folders/c_/qfmhj66j0tn016nkx_th4hxm0000gp/T/abs_7f3ojsm7ne/croot/nbconvert_1699022748690/work\n",
      "nbformat @ file:///private/var/folders/sy/f16zz6x50xz3113nwtb9bvq00000gp/T/abs_532mg9641l/croot/nbformat_1694616748613/work\n",
      "nest-asyncio @ file:///private/var/folders/c_/qfmhj66j0tn016nkx_th4hxm0000gp/T/abs_c44_atq5c1/croot/nest-asyncio_1708532677863/work\n",
      "networkx @ file:///private/var/folders/sy/f16zz6x50xz3113nwtb9bvq00000gp/T/abs_666p3uavvu/croot/networkx_1690562005807/work\n",
      "nibabel==5.2.1\n",
      "nltk @ file:///private/var/folders/sy/f16zz6x50xz3113nwtb9bvq00000gp/T/abs_3dn6s26pv5/croot/nltk_1688114157897/work\n",
      "notebook @ file:///private/var/folders/sy/f16zz6x50xz3113nwtb9bvq00000gp/T/abs_fal5vav6rv/croot/notebook_1708029873897/work\n",
      "notebook_shim @ file:///private/var/folders/c_/qfmhj66j0tn016nkx_th4hxm0000gp/T/abs_3ad004vb8r/croot/notebook-shim_1699455899066/work\n",
      "numba @ file:///private/var/folders/sy/f16zz6x50xz3113nwtb9bvq00000gp/T/abs_23vs4df6lp/croot/numba_1707085087632/work\n",
      "numexpr @ file:///private/var/folders/c_/qfmhj66j0tn016nkx_th4hxm0000gp/T/abs_c2pokmr868/croot/numexpr_1696515300257/work\n",
      "numpy @ file:///private/var/folders/c_/qfmhj66j0tn016nkx_th4hxm0000gp/T/abs_b7iptlxgej/croot/numpy_and_numpy_base_1708638622773/work/dist/numpy-1.26.4-cp311-cp311-macosx_10_9_x86_64.whl#sha256=ca93246020dd5cf5864c57fea8d3b0afd6530b245222908737c7f434a105fdc2\n",
      "numpydoc @ file:///Users/ec2-user/ci_py311/numpydoc_1678393034712/work\n",
      "openpyxl==3.0.10\n",
      "ordered-set==4.1.0\n",
      "overrides @ file:///private/var/folders/sy/f16zz6x50xz3113nwtb9bvq00000gp/T/abs_a4tzft66ma/croot/overrides_1699371143883/work\n",
      "packaging @ file:///private/var/folders/c_/qfmhj66j0tn016nkx_th4hxm0000gp/T/abs_2algm5p9lp/croot/packaging_1693575178038/work\n",
      "pandas @ file:///private/var/folders/sy/f16zz6x50xz3113nwtb9bvq00000gp/T/abs_80pc5xjc2v/croot/pandas_1702317994691/work/dist/pandas-2.1.4-cp311-cp311-macosx_10_9_x86_64.whl#sha256=562d8dcc486342bcfe647be4b2ca0c2d857ced5be1d9ae31f02631c15ceff057\n",
      "pandocfilters @ file:///opt/conda/conda-bld/pandocfilters_1643405455980/work\n",
      "panel @ file:///private/var/folders/c_/qfmhj66j0tn016nkx_th4hxm0000gp/T/abs_acrgvxlmc8/croot/panel_1706539573796/work\n",
      "param @ file:///private/var/folders/sy/f16zz6x50xz3113nwtb9bvq00000gp/T/abs_1ast_63ih0/croot/param_1705937784261/work\n",
      "parsel @ file:///private/var/folders/sy/f16zz6x50xz3113nwtb9bvq00000gp/T/abs_c2cjwk5urk/croot/parsel_1707503456028/work\n",
      "parso @ file:///opt/conda/conda-bld/parso_1641458642106/work\n",
      "partd @ file:///private/var/folders/sy/f16zz6x50xz3113nwtb9bvq00000gp/T/abs_35991x7klg/croot/partd_1698702577396/work\n",
      "pathlib @ file:///Users/ktietz/demo/mc3/conda-bld/pathlib_1629713961906/work\n",
      "pathspec @ file:///Users/ec2-user/ci_py311_2/pathspec_1679337122817/work\n",
      "patsy==0.5.3\n",
      "pexpect @ file:///tmp/build/80754af9/pexpect_1605563209008/work\n",
      "pickleshare @ file:///tmp/build/80754af9/pickleshare_1606932040724/work\n",
      "pillow @ file:///private/var/folders/sy/f16zz6x50xz3113nwtb9bvq00000gp/T/abs_f8zh99mhe_/croot/pillow_1707233029679/work\n",
      "pkce @ file:///private/var/folders/c_/qfmhj66j0tn016nkx_th4hxm0000gp/T/abs_afkgd9bupa/croot/pkce_1690384838211/work\n",
      "pkginfo @ file:///private/var/folders/sy/f16zz6x50xz3113nwtb9bvq00000gp/T/abs_d976p03z5u/croot/pkginfo_1679431175529/work\n",
      "platformdirs @ file:///private/var/folders/sy/f16zz6x50xz3113nwtb9bvq00000gp/T/abs_640usff2p5/croot/platformdirs_1692205656061/work\n",
      "plotly @ file:///Users/ec2-user/ci_py311/plotly_1678382250051/work\n",
      "pluggy @ file:///Users/ec2-user/ci_py311/pluggy_1678315400971/work\n",
      "ply==3.11\n",
      "prometheus-client @ file:///Users/ec2-user/ci_py311_2/prometheus_client_1679340232148/work\n",
      "prompt-toolkit @ file:///private/var/folders/sy/f16zz6x50xz3113nwtb9bvq00000gp/T/abs_4d8kk9w3ed/croot/prompt-toolkit_1704404354789/work\n",
      "Protego @ file:///tmp/build/80754af9/protego_1598657180827/work\n",
      "protobuf==3.20.3\n",
      "psutil @ file:///Users/ec2-user/ci_py311_2/psutil_1679337242143/work\n",
      "ptyprocess @ file:///tmp/build/80754af9/ptyprocess_1609355006118/work/dist/ptyprocess-0.7.0-py2.py3-none-any.whl\n",
      "pure-eval @ file:///opt/conda/conda-bld/pure_eval_1646925070566/work\n",
      "py-cpuinfo @ file:///private/var/folders/c_/qfmhj66j0tn016nkx_th4hxm0000gp/T/abs_c4f2abgydv/croot/py-cpuinfo_1698068085743/work\n",
      "pyarrow @ file:///private/var/folders/c_/qfmhj66j0tn016nkx_th4hxm0000gp/T/abs_20mrtbsygp/croot/pyarrow_1707330841142/work/python\n",
      "pyasn1 @ file:///Users/ktietz/demo/mc3/conda-bld/pyasn1_1629708007385/work\n",
      "pyasn1-modules==0.2.8\n",
      "pycodestyle @ file:///Users/ec2-user/ci_py311/pycodestyle_1678324331308/work\n",
      "pycosat @ file:///private/var/folders/sy/f16zz6x50xz3113nwtb9bvq00000gp/T/abs_09anpuxx5u/croot/pycosat_1696536514697/work\n",
      "pycparser @ file:///tmp/build/80754af9/pycparser_1636541352034/work\n",
      "pyct @ file:///Users/ec2-user/ci_py311/pyct_1678378955854/work\n",
      "pycurl @ file:///private/var/folders/sy/f16zz6x50xz3113nwtb9bvq00000gp/T/abs_5fqjx6q8cq/croot/pycurl_1686662466370/work\n",
      "pydantic @ file:///private/var/folders/sy/f16zz6x50xz3113nwtb9bvq00000gp/T/abs_92rc5e4spx/croot/pydantic_1695798855907/work\n",
      "pydeck @ file:///private/var/folders/c_/qfmhj66j0tn016nkx_th4hxm0000gp/T/abs_ebg6znt5un/croot/pydeck_1706194073430/work\n",
      "PyDispatcher==2.0.5\n",
      "pydocstyle @ file:///Users/ec2-user/ci_py311/pydocstyle_1678378981125/work\n",
      "pyerfa @ file:///Users/ec2-user/ci_py311/pyerfa_1678379006730/work\n",
      "pyflakes @ file:///Users/ec2-user/ci_py311/pyflakes_1678324357242/work\n",
      "Pygments @ file:///private/var/folders/sy/f16zz6x50xz3113nwtb9bvq00000gp/T/abs_cflayrfqsi/croot/pygments_1684279981084/work\n",
      "PyJWT @ file:///Users/ec2-user/ci_py311/pyjwt_1678379090382/work\n",
      "pylint @ file:///Users/ec2-user/ci_py311/pylint_1678379112162/work\n",
      "pylint-venv @ file:///Users/ec2-user/ci_py311/pylint-venv_1678393629931/work\n",
      "pyls-spyder==0.4.0\n",
      "pyobjc-core @ file:///Users/ec2-user/ci_py311/pyobjc-core_1678375734970/work\n",
      "pyobjc-framework-Cocoa @ file:///Users/ec2-user/ci_py311/pyobjc-framework-cocoa_1678375905004/work\n",
      "pyobjc-framework-CoreServices @ file:///Users/ec2-user/ci_py311/pyobjc-framework-coreservices_1678383123980/work\n",
      "pyobjc-framework-FSEvents @ file:///Users/ec2-user/ci_py311/pyobjc-framework-fsevents_1678379139559/work\n",
      "pyodbc @ file:///private/var/folders/c_/qfmhj66j0tn016nkx_th4hxm0000gp/T/abs_0c35321swi/croot/pyodbc_1705431357684/work\n",
      "pyOpenSSL @ file:///private/var/folders/c_/qfmhj66j0tn016nkx_th4hxm0000gp/T/abs_943yktheie/croot/pyopenssl_1708380423436/work\n",
      "pyparsing @ file:///Users/ec2-user/ci_py311/pyparsing_1678322828710/work\n",
      "PyQt5==5.15.10\n",
      "PyQt5-sip @ file:///private/var/folders/c_/qfmhj66j0tn016nkx_th4hxm0000gp/T/abs_1dtf8v1nd0/croot/pyqt-split_1698769097015/work/pyqt_sip\n",
      "PyQtWebEngine==5.15.6\n",
      "PySocks @ file:///Users/ec2-user/ci_py311/pysocks_1678315868424/work\n",
      "pytest @ file:///private/var/folders/sy/f16zz6x50xz3113nwtb9bvq00000gp/T/abs_7089yk6bfu/croot/pytest_1690474697638/work\n",
      "python-dateutil @ file:///tmp/build/80754af9/python-dateutil_1626374649649/work\n",
      "python-dotenv @ file:///Users/ec2-user/ci_py311/python-dotenv_1678319919985/work\n",
      "python-json-logger @ file:///private/var/folders/sy/f16zz6x50xz3113nwtb9bvq00000gp/T/abs_49p5x2bjzn/croot/python-json-logger_1683823814668/work\n",
      "python-lsp-black @ file:///Users/ec2-user/ci_py311/python-lsp-black_1678393907972/work\n",
      "python-lsp-jsonrpc==1.0.0\n",
      "python-lsp-server @ file:///private/var/folders/sy/f16zz6x50xz3113nwtb9bvq00000gp/T/abs_1fkjjx0yhx/croot/python-lsp-server_1681930400163/work\n",
      "python-slugify @ file:///tmp/build/80754af9/python-slugify_1620405669636/work\n",
      "python-snappy @ file:///Users/ec2-user/ci_py311/python-snappy_1678388765172/work\n",
      "pytoolconfig @ file:///private/var/folders/sy/f16zz6x50xz3113nwtb9bvq00000gp/T/abs_653p0pw7wp/croot/pytoolconfig_1701728714959/work\n",
      "pytz @ file:///private/var/folders/sy/f16zz6x50xz3113nwtb9bvq00000gp/T/abs_e0y2h1cdsw/croot/pytz_1695131602326/work\n",
      "pyviz_comms @ file:///private/var/folders/sy/f16zz6x50xz3113nwtb9bvq00000gp/T/abs_2201tq8r6j/croot/pyviz_comms_1701728039143/work\n",
      "pywavelets @ file:///private/var/folders/c_/qfmhj66j0tn016nkx_th4hxm0000gp/T/abs_25q278553v/croot/pywavelets_1705049822252/work\n",
      "PyYAML @ file:///private/var/folders/sy/f16zz6x50xz3113nwtb9bvq00000gp/T/abs_37cfd0k_yi/croot/pyyaml_1698096054183/work\n",
      "pyzmq @ file:///private/var/folders/c_/qfmhj66j0tn016nkx_th4hxm0000gp/T/abs_c7mhasdker/croot/pyzmq_1705605099593/work\n",
      "QDarkStyle @ file:///tmp/build/80754af9/qdarkstyle_1617386714626/work\n",
      "qstylizer @ file:///Users/ec2-user/ci_py311/qstylizer_1678393978214/work/dist/qstylizer-0.2.2-py2.py3-none-any.whl\n",
      "QtAwesome @ file:///Users/ec2-user/ci_py311/qtawesome_1678393953815/work\n",
      "qtconsole @ file:///private/var/folders/sy/f16zz6x50xz3113nwtb9bvq00000gp/T/abs_dexq2hi2gu/croot/qtconsole_1681394223590/work\n",
      "QtPy @ file:///private/var/folders/sy/f16zz6x50xz3113nwtb9bvq00000gp/T/abs_2d6pry73ru/croot/qtpy_1700144867139/work\n",
      "queuelib @ file:///private/var/folders/c_/qfmhj66j0tn016nkx_th4hxm0000gp/T/abs_74m72qeb18/croot/queuelib_1696950351873/work\n",
      "referencing @ file:///private/var/folders/sy/f16zz6x50xz3113nwtb9bvq00000gp/T/abs_15mb8b6xor/croot/referencing_1699012045485/work\n",
      "regex @ file:///private/var/folders/sy/f16zz6x50xz3113nwtb9bvq00000gp/T/abs_02dc99crzf/croot/regex_1696515313663/work\n",
      "requests @ file:///private/var/folders/sy/f16zz6x50xz3113nwtb9bvq00000gp/T/abs_4fp_3tflo8/croot/requests_1707355574897/work\n",
      "requests-file @ file:///Users/ktietz/demo/mc3/conda-bld/requests-file_1629455781986/work\n",
      "requests-toolbelt @ file:///private/var/folders/c_/qfmhj66j0tn016nkx_th4hxm0000gp/T/abs_d4z1wb6cpk/croot/requests-toolbelt_1690874009769/work\n",
      "rfc3339-validator @ file:///private/var/folders/sy/f16zz6x50xz3113nwtb9bvq00000gp/T/abs_07a1ken4gz/croot/rfc3339-validator_1683077050666/work\n",
      "rfc3986-validator @ file:///private/var/folders/sy/f16zz6x50xz3113nwtb9bvq00000gp/T/abs_6dzvsqx89i/croot/rfc3986-validator_1683059150431/work\n",
      "rich @ file:///private/var/folders/sy/f16zz6x50xz3113nwtb9bvq00000gp/T/abs_31bd74sw_8/croot/rich_1684282176000/work\n",
      "rope @ file:///Users/ec2-user/ci_py311/rope_1678379265159/work\n",
      "rpds-py @ file:///private/var/folders/c_/qfmhj66j0tn016nkx_th4hxm0000gp/T/abs_e9l2yxcal2/croot/rpds-py_1698945951668/work\n",
      "Rtree @ file:///Users/ec2-user/ci_py311/rtree_1678394103092/work\n",
      "ruamel-yaml-conda @ file:///Users/ec2-user/ci_py311/ruamel_yaml_1678394125333/work\n",
      "ruamel.yaml @ file:///Users/ec2-user/ci_py311/ruamel.yaml_1678379291841/work\n",
      "s3fs @ file:///private/var/folders/sy/f16zz6x50xz3113nwtb9bvq00000gp/T/abs_e2sxkje5ga/croot/s3fs_1701294194461/work\n",
      "scikit-image @ file:///private/var/folders/sy/f16zz6x50xz3113nwtb9bvq00000gp/T/abs_2e15ygzee5/croot/scikit-image_1707346126646/work\n",
      "scikit-learn @ file:///private/var/folders/sy/f16zz6x50xz3113nwtb9bvq00000gp/T/abs_506rr4lm7n/croot/scikit-learn_1684954727383/work\n",
      "scipy @ file:///private/var/folders/c_/qfmhj66j0tn016nkx_th4hxm0000gp/T/abs_7e16tat7za/croot/scipy_1701295051536/work/dist/scipy-1.11.4-cp311-cp311-macosx_10_9_x86_64.whl#sha256=774af4e640d8c5d6d07392699a47f14267c7dedcf063ffb2f46cf85b19804793\n",
      "Scrapy @ file:///Users/ec2-user/ci_py311/scrapy_1678422467931/work\n",
      "seaborn @ file:///Users/ec2-user/ci_py311/seaborn_1678394152964/work\n",
      "semver @ file:///tmp/build/80754af9/semver_1603822362442/work\n",
      "Send2Trash @ file:///private/var/folders/sy/f16zz6x50xz3113nwtb9bvq00000gp/T/abs_6c5du7dh0i/croot/send2trash_1699371145992/work\n",
      "service-identity @ file:///Users/ktietz/demo/mc3/conda-bld/service_identity_1629460757137/work\n",
      "setuptools-scm==8.1.0\n",
      "sip @ file:///private/var/folders/sy/f16zz6x50xz3113nwtb9bvq00000gp/T/abs_6cor4uzugx/croot/sip_1698675942509/work\n",
      "six @ file:///tmp/build/80754af9/six_1644875935023/work\n",
      "smart-open @ file:///Users/ec2-user/ci_py311/smart_open_1678389689993/work\n",
      "smmap @ file:///tmp/build/80754af9/smmap_1611694433573/work\n",
      "sniffio @ file:///private/var/folders/sy/f16zz6x50xz3113nwtb9bvq00000gp/T/abs_a46njf828g/croot/sniffio_1705431298111/work\n",
      "snowballstemmer @ file:///tmp/build/80754af9/snowballstemmer_1637937080595/work\n",
      "sortedcontainers @ file:///tmp/build/80754af9/sortedcontainers_1623949099177/work\n",
      "soupsieve @ file:///private/var/folders/c_/qfmhj66j0tn016nkx_th4hxm0000gp/T/abs_9cjy8iflks/croot/soupsieve_1696347576367/work\n",
      "Sphinx @ file:///Users/ec2-user/ci_py311/sphinx_1678389735529/work\n",
      "sphinxcontrib-applehelp @ file:///home/ktietz/src/ci/sphinxcontrib-applehelp_1611920841464/work\n",
      "sphinxcontrib-devhelp @ file:///home/ktietz/src/ci/sphinxcontrib-devhelp_1611920923094/work\n",
      "sphinxcontrib-htmlhelp @ file:///tmp/build/80754af9/sphinxcontrib-htmlhelp_1623945626792/work\n",
      "sphinxcontrib-jsmath @ file:///home/ktietz/src/ci/sphinxcontrib-jsmath_1611920942228/work\n",
      "sphinxcontrib-qthelp @ file:///home/ktietz/src/ci/sphinxcontrib-qthelp_1611921055322/work\n",
      "sphinxcontrib-serializinghtml @ file:///tmp/build/80754af9/sphinxcontrib-serializinghtml_1624451540180/work\n",
      "spyder @ file:///private/var/folders/sy/f16zz6x50xz3113nwtb9bvq00000gp/T/abs_b93e0at0ak/croot/spyder_1681934083239/work\n",
      "spyder-kernels @ file:///private/var/folders/c_/qfmhj66j0tn016nkx_th4hxm0000gp/T/abs_88d8aoyzh1/croot/spyder-kernels_1691599547665/work\n",
      "SQLAlchemy @ file:///private/var/folders/c_/qfmhj66j0tn016nkx_th4hxm0000gp/T/abs_6bkf4b2wco/croot/sqlalchemy_1705089116227/work\n",
      "stack-data @ file:///opt/conda/conda-bld/stack_data_1646927590127/work\n",
      "statsmodels @ file:///private/var/folders/sy/f16zz6x50xz3113nwtb9bvq00000gp/T/abs_6ceh3qgte0/croot/statsmodels_1689937269297/work\n",
      "streamlit @ file:///private/var/folders/c_/qfmhj66j0tn016nkx_th4hxm0000gp/T/abs_c2alp7j_tk/croot/streamlit_1706200496103/work\n",
      "sympy @ file:///private/var/folders/sy/f16zz6x50xz3113nwtb9bvq00000gp/T/abs_94zd__m8ro/croot/sympy_1701397645431/work\n",
      "tables @ file:///private/var/folders/c_/qfmhj66j0tn016nkx_th4hxm0000gp/T/abs_14tru757r_/croot/pytables_1705684101600/work\n",
      "tabulate @ file:///private/var/folders/sy/f16zz6x50xz3113nwtb9bvq00000gp/T/abs_977ujncxei/croot/tabulate_1701354815519/work\n",
      "tblib @ file:///Users/ktietz/demo/mc3/conda-bld/tblib_1629402031467/work\n",
      "tenacity @ file:///private/var/folders/sy/f16zz6x50xz3113nwtb9bvq00000gp/T/abs_cct5tq4h70/croot/tenacity_1682972283326/work\n",
      "terminado @ file:///Users/ec2-user/ci_py311/terminado_1678317735543/work\n",
      "text-unidecode @ file:///Users/ktietz/demo/mc3/conda-bld/text-unidecode_1629401354553/work\n",
      "textdistance @ file:///tmp/build/80754af9/textdistance_1612461398012/work\n",
      "threadpoolctl @ file:///Users/ktietz/demo/mc3/conda-bld/threadpoolctl_1629802263681/work\n",
      "three-merge @ file:///tmp/build/80754af9/three-merge_1607553261110/work\n",
      "tifffile @ file:///private/var/folders/c_/qfmhj66j0tn016nkx_th4hxm0000gp/T/abs_ffr7rfhtkd/croot/tifffile_1695107463579/work\n",
      "TIME-python==0.0.17\n",
      "tinycss2 @ file:///Users/ec2-user/ci_py311/tinycss2_1678317366076/work\n",
      "tldextract @ file:///opt/conda/conda-bld/tldextract_1646638314385/work\n",
      "toml @ file:///tmp/build/80754af9/toml_1616166611790/work\n",
      "tomlkit @ file:///Users/ec2-user/ci_py311/tomlkit_1678317388739/work\n",
      "toolz @ file:///Users/ec2-user/ci_py311/toolz_1678323009669/work\n",
      "tornado @ file:///private/var/folders/sy/f16zz6x50xz3113nwtb9bvq00000gp/T/abs_65x80foild/croot/tornado_1696936984963/work\n",
      "tqdm @ file:///private/var/folders/sy/f16zz6x50xz3113nwtb9bvq00000gp/T/abs_03acd6t6ca/croot/tqdm_1679561866522/work\n",
      "traitlets @ file:///Users/ec2-user/ci_py311/traitlets_1678316097905/work\n",
      "truststore @ file:///private/var/folders/sy/f16zz6x50xz3113nwtb9bvq00000gp/T/abs_d4qy09ztdt/croot/truststore_1695244322396/work\n",
      "trx-python==0.3\n",
      "Twisted @ file:///private/var/folders/c_/qfmhj66j0tn016nkx_th4hxm0000gp/T/abs_1ci0_ly4iu/croot/twisted_1708705445231/work\n",
      "typing_extensions @ file:///private/var/folders/sy/f16zz6x50xz3113nwtb9bvq00000gp/T/abs_31f_f02huc/croot/typing_extensions_1705599310686/work\n",
      "tzdata @ file:///croot/python-tzdata_1690578112552/work\n",
      "tzlocal @ file:///Users/ec2-user/ci_py311/tzlocal_1678379414116/work\n",
      "uc-micro-py @ file:///Users/ec2-user/ci_py311/uc-micro-py_1678394873457/work\n",
      "ujson @ file:///Users/ec2-user/ci_py311/ujson_1678325349324/work\n",
      "Unidecode @ file:///tmp/build/80754af9/unidecode_1614712377438/work\n",
      "urllib3 @ file:///private/var/folders/sy/f16zz6x50xz3113nwtb9bvq00000gp/T/abs_6ecjc0andm/croot/urllib3_1707349238568/work\n",
      "validators @ file:///tmp/build/80754af9/validators_1612286467315/work\n",
      "w3lib @ file:///private/var/folders/c_/qfmhj66j0tn016nkx_th4hxm0000gp/T/abs_998i5462u5/croot/w3lib_1708642429208/work\n",
      "watchdog @ file:///Users/ec2-user/ci_py311/watchdog_1678395046770/work\n",
      "wcwidth @ file:///Users/ktietz/demo/mc3/conda-bld/wcwidth_1629357192024/work\n",
      "webencodings==0.5.1\n",
      "websocket-client @ file:///Users/ec2-user/ci_py311/websocket-client_1678317758506/work\n",
      "Werkzeug @ file:///private/var/folders/sy/f16zz6x50xz3113nwtb9bvq00000gp/T/abs_fegt3z60s3/croot/werkzeug_1679489762631/work\n",
      "whatthepatch @ file:///Users/ec2-user/ci_py311/whatthepatch_1678379478749/work\n",
      "widgetsnbextension @ file:///private/var/folders/sy/f16zz6x50xz3113nwtb9bvq00000gp/T/abs_40_pxs6vyf/croot/widgetsnbextension_1701273630538/work\n",
      "wrapt @ file:///Users/ec2-user/ci_py311/wrapt_1678323111850/work\n",
      "wurlitzer @ file:///Users/ec2-user/ci_py311/wurlitzer_1678390004531/work\n",
      "xarray @ file:///private/var/folders/sy/f16zz6x50xz3113nwtb9bvq00000gp/T/abs_ba3w2rvoxd/croot/xarray_1689041477488/work\n",
      "xlwings @ file:///Users/ec2-user/ci_py311_2/xlwings_1679338568565/work\n",
      "xyzservices @ file:///Users/ec2-user/ci_py311/xyzservices_1678325391212/work\n",
      "yapf @ file:///tmp/build/80754af9/yapf_1615749224965/work\n",
      "yarl @ file:///private/var/folders/sy/f16zz6x50xz3113nwtb9bvq00000gp/T/abs_2b7v_sl8vw/croot/yarl_1701105138808/work\n",
      "zict @ file:///private/var/folders/c_/qfmhj66j0tn016nkx_th4hxm0000gp/T/abs_ed6_o78f2r/croot/zict_1695832864198/work\n",
      "zipp @ file:///private/var/folders/c_/qfmhj66j0tn016nkx_th4hxm0000gp/T/abs_c8z3y7z1g1/croot/zipp_1704206911704/work\n",
      "zope.interface @ file:///Users/ec2-user/ci_py311/zope.interface_1678379536727/work\n",
      "zstandard @ file:///Users/ec2-user/ci_py311_2/zstandard_1679338593428/work\n",
      "Note: you may need to restart the kernel to use updated packages.\n"
     ]
    }
   ],
   "source": [
    "pip freeze"
   ]
  },
  {
   "cell_type": "markdown",
   "id": "ecc86451-6188-48a4-8cce-deaebf14e414",
   "metadata": {},
   "source": [
    "**Note**\n",
    "Pip freeze is the command to know the already existed packages in our package \n"
   ]
  },
  {
   "cell_type": "code",
   "execution_count": 16,
   "id": "fd84114b-2488-403e-9f7b-7caa2d1a4552",
   "metadata": {},
   "outputs": [],
   "source": [
    "import numpy"
   ]
  },
  {
   "cell_type": "code",
   "execution_count": 18,
   "id": "9775c529-bc04-4c33-87c0-49756a17e2f1",
   "metadata": {},
   "outputs": [
    {
     "data": {
      "text/plain": [
       "<module 'numpy' from '/opt/anaconda3/lib/python3.11/site-packages/numpy/__init__.py'>"
      ]
     },
     "execution_count": 18,
     "metadata": {},
     "output_type": "execute_result"
    }
   ],
   "source": [
    "numpy"
   ]
  },
  {
   "cell_type": "code",
   "execution_count": 20,
   "id": "1e251111-4769-4cd8-a295-46e754efd7fc",
   "metadata": {},
   "outputs": [
    {
     "ename": "NameError",
     "evalue": "name 'cv2' is not defined",
     "output_type": "error",
     "traceback": [
      "\u001b[0;31m---------------------------------------------------------------------------\u001b[0m",
      "\u001b[0;31mNameError\u001b[0m                                 Traceback (most recent call last)",
      "Cell \u001b[0;32mIn[20], line 1\u001b[0m\n\u001b[0;32m----> 1\u001b[0m cv2\n",
      "\u001b[0;31mNameError\u001b[0m: name 'cv2' is not defined"
     ]
    }
   ],
   "source": [
    "cv2"
   ]
  },
  {
   "cell_type": "code",
   "execution_count": 22,
   "id": "20b22f55-1de3-4829-bcc5-97a53d0d2e58",
   "metadata": {},
   "outputs": [
    {
     "ename": "ModuleNotFoundError",
     "evalue": "No module named 'cv2'",
     "output_type": "error",
     "traceback": [
      "\u001b[0;31m---------------------------------------------------------------------------\u001b[0m",
      "\u001b[0;31mModuleNotFoundError\u001b[0m                       Traceback (most recent call last)",
      "Cell \u001b[0;32mIn[22], line 1\u001b[0m\n\u001b[0;32m----> 1\u001b[0m \u001b[38;5;28;01mimport\u001b[39;00m \u001b[38;5;21;01mcv2\u001b[39;00m\n",
      "\u001b[0;31mModuleNotFoundError\u001b[0m: No module named 'cv2'"
     ]
    }
   ],
   "source": [
    "import cv2"
   ]
  },
  {
   "cell_type": "code",
   "execution_count": null,
   "id": "7e316ec0-bcb0-4fa0-a9f7-e8834307b69e",
   "metadata": {},
   "outputs": [
    {
     "name": "stdout",
     "output_type": "stream",
     "text": [
      "Collecting opencv-python\n",
      "  Using cached opencv-python-4.10.0.84.tar.gz (95.1 MB)\n",
      "  Installing build dependencies ... \u001b[?25ldone\n",
      "\u001b[?25h  Getting requirements to build wheel ... \u001b[?25ldone\n",
      "\u001b[?25h  Preparing metadata (pyproject.toml) ... \u001b[?25ldone\n",
      "\u001b[?25hRequirement already satisfied: numpy>=1.21.2 in /opt/anaconda3/lib/python3.11/site-packages (from opencv-python) (1.26.4)\n",
      "Building wheels for collected packages: opencv-python\n",
      "  Building wheel for opencv-python (pyproject.toml) ... \u001b[?25l\\"
     ]
    }
   ],
   "source": [
    "!pip install opencv-python"
   ]
  },
  {
   "cell_type": "code",
   "execution_count": null,
   "id": "9b3241be-51cf-4079-97ac-1929872b78d1",
   "metadata": {},
   "outputs": [],
   "source": []
  },
  {
   "cell_type": "code",
   "execution_count": 3,
   "id": "c288afe1-5d54-422b-ab8e-d8a56b899953",
   "metadata": {},
   "outputs": [
    {
     "name": "stdout",
     "output_type": "stream",
     "text": [
      "the addition of 71 and 149 is 220\n"
     ]
    }
   ],
   "source": [
    "import random\n",
    "num1=random.randint(1,100)\n",
    "num2=random.randint(100,200)\n",
    "add=num1+num2\n",
    "print(f\"the addition of {num1} and {num2} is {add}\")"
   ]
  },
  {
   "cell_type": "markdown",
   "id": "d49d41bb-ba7e-4cd5-8289-31b92c4690c3",
   "metadata": {},
   "source": [
    "**How we pass the number **\n",
    "- hard coding\n",
    "- using keyboard\n",
    "- using random\n",
    "\n",
    "\n",
    "    "
   ]
  },
  {
   "cell_type": "code",
   "execution_count": 6,
   "id": "6230ccb7-6ec2-4dfa-a8f7-bcd72a2b87fc",
   "metadata": {},
   "outputs": [
    {
     "name": "stdin",
     "output_type": "stream",
     "text": [
      "enter the n2 10\n"
     ]
    },
    {
     "name": "stdout",
     "output_type": "stream",
     "text": [
      "the avg of 10,10,26 is 15.333333333333334\n"
     ]
    }
   ],
   "source": [
    "n1= 10\n",
    "n2 =eval(input(\"enter the n2\"))\n",
    "n3=random.randint(1,100)\n",
    "avg =(n1+n2+n3)/3\n",
    "print(f\"the avg of {n1},{n2},{n3} is {avg}\")"
   ]
  },
  {
   "cell_type": "markdown",
   "id": "c745b008-8190-4743-8d7f-53630274d7e2",
   "metadata": {},
   "source": [
    "- once the package is imported in the notebook \n",
    "- no need to import always "
   ]
  },
  {
   "cell_type": "markdown",
   "id": "1600ad7e-5ec9-4182-9dba-ce1abed0b683",
   "metadata": {},
   "source": [
    "**Round**"
   ]
  },
  {
   "cell_type": "code",
   "execution_count": 14,
   "id": "6f732aee-b2ce-4d20-a14b-5c7c3c44b505",
   "metadata": {},
   "outputs": [
    {
     "data": {
      "text/plain": [
       "15"
      ]
     },
     "execution_count": 14,
     "metadata": {},
     "output_type": "execute_result"
    }
   ],
   "source": [
    "round(avg)"
   ]
  },
  {
   "cell_type": "code",
   "execution_count": 16,
   "id": "a08c7838-1323-499e-997b-dfd2e6000a38",
   "metadata": {},
   "outputs": [
    {
     "data": {
      "text/plain": [
       "15.33"
      ]
     },
     "execution_count": 16,
     "metadata": {},
     "output_type": "execute_result"
    }
   ],
   "source": [
    "round(avg,2)"
   ]
  },
  {
   "cell_type": "code",
   "execution_count": 18,
   "id": "3998657d-1b7f-4869-8942-26b210b04ee4",
   "metadata": {},
   "outputs": [
    {
     "data": {
      "text/plain": [
       "15.333"
      ]
     },
     "execution_count": 18,
     "metadata": {},
     "output_type": "execute_result"
    }
   ],
   "source": [
    "round(avg,3)"
   ]
  },
  {
   "cell_type": "code",
   "execution_count": 20,
   "id": "edd3933b-ce8b-455a-90d0-6f69980164f8",
   "metadata": {},
   "outputs": [
    {
     "name": "stdin",
     "output_type": "stream",
     "text": [
      "enter the n2 9\n"
     ]
    },
    {
     "name": "stdout",
     "output_type": "stream",
     "text": [
      "the avg of 10,9,52 is 23.67\n"
     ]
    }
   ],
   "source": [
    "n1= 10\n",
    "n2 =eval(input(\"enter the n2\"))\n",
    "n3=random.randint(1,100)\n",
    "avg =round((n1+n2+n3)/3,2)\n",
    "\n",
    "print(f\"the avg of {n1},{n2},{n3} is {avg}\")"
   ]
  },
  {
   "cell_type": "code",
   "execution_count": null,
   "id": "9599b5d0-a899-4a32-823c-fe4d7522a84c",
   "metadata": {},
   "outputs": [
    {
     "name": "stdout",
     "output_type": "stream",
     "text": [
      "Collecting opencv-python\n",
      "  Using cached opencv-python-4.10.0.84.tar.gz (95.1 MB)\n",
      "  Installing build dependencies ... \u001b[?25ldone\n",
      "\u001b[?25h  Getting requirements to build wheel ... \u001b[?25ldone\n",
      "\u001b[?25h  Preparing metadata (pyproject.toml) ... \u001b[?25ldone\n",
      "\u001b[?25hRequirement already satisfied: numpy>=1.21.2 in /opt/anaconda3/lib/python3.11/site-packages (from opencv-python) (1.26.4)\n",
      "Building wheels for collected packages: opencv-python\n",
      "  Building wheel for opencv-python (pyproject.toml) ... \u001b[?25l\\"
     ]
    }
   ],
   "source": [
    "!pip install opencv-python"
   ]
  },
  {
   "cell_type": "code",
   "execution_count": null,
   "id": "05bba8c8-124f-4e71-8c0a-1ab398cc4589",
   "metadata": {},
   "outputs": [],
   "source": []
  }
 ],
 "metadata": {
  "kernelspec": {
   "display_name": "Python 3 (ipykernel)",
   "language": "python",
   "name": "python3"
  },
  "language_info": {
   "codemirror_mode": {
    "name": "ipython",
    "version": 3
   },
   "file_extension": ".py",
   "mimetype": "text/x-python",
   "name": "python",
   "nbconvert_exporter": "python",
   "pygments_lexer": "ipython3",
   "version": "3.11.7"
  }
 },
 "nbformat": 4,
 "nbformat_minor": 5
}
